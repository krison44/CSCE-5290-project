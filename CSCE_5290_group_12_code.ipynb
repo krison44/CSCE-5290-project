{
 "cells": [
  {
   "cell_type": "code",
   "execution_count": 29,
   "id": "9d225adb",
   "metadata": {},
   "outputs": [
    {
     "name": "stdout",
     "output_type": "stream",
     "text": [
      "Requirement already satisfied: youtube_transcript_api in /usr/local/lib/python3.10/site-packages (0.4.4)\n",
      "Requirement already satisfied: requests in /usr/local/lib/python3.10/site-packages (from youtube_transcript_api) (2.28.1)\n",
      "Requirement already satisfied: idna<4,>=2.5 in /usr/local/lib/python3.10/site-packages (from requests->youtube_transcript_api) (3.4)\n",
      "Requirement already satisfied: certifi>=2017.4.17 in /usr/local/lib/python3.10/site-packages (from requests->youtube_transcript_api) (2022.9.14)\n",
      "Requirement already satisfied: charset-normalizer<3,>=2 in /usr/local/lib/python3.10/site-packages (from requests->youtube_transcript_api) (2.1.1)\n",
      "Requirement already satisfied: urllib3<1.27,>=1.21.1 in /usr/local/lib/python3.10/site-packages (from requests->youtube_transcript_api) (1.26.12)\n",
      "\n",
      "\u001b[1m[\u001b[0m\u001b[34;49mnotice\u001b[0m\u001b[1;39;49m]\u001b[0m\u001b[39;49m A new release of pip available: \u001b[0m\u001b[31;49m22.2.2\u001b[0m\u001b[39;49m -> \u001b[0m\u001b[32;49m22.3\u001b[0m\n",
      "\u001b[1m[\u001b[0m\u001b[34;49mnotice\u001b[0m\u001b[1;39;49m]\u001b[0m\u001b[39;49m To update, run: \u001b[0m\u001b[32;49mpython3.10 -m pip install --upgrade pip\u001b[0m\n"
     ]
    }
   ],
   "source": [
    "!pip install youtube_transcript_api\n",
    "from youtube_transcript_api import YouTubeTranscriptApi"
   ]
  },
  {
   "cell_type": "code",
   "execution_count": 88,
   "id": "24415a04",
   "metadata": {},
   "outputs": [],
   "source": [
    "# Import all necessary Libraries\n",
    "import re\n",
    "import spacy\n",
    "import nltk\n",
    "import numpy as np\n",
    "from nltk.stem import WordNetLemmatizer\n",
    "from nltk.tokenize import word_tokenize, sent_tokenize\n",
    "from keras.utils import to_categorical\n",
    "from sklearn.model_selection import train_test_split\n",
    "from keras.models import Sequential\n",
    "from keras.layers import LSTM, Dense, GRU, Embedding\n",
    "from keras.callbacks import EarlyStopping, ModelCheckpoint\n",
    "from keras_preprocessing.sequence import pad_sequences\n",
    "from textblob.en import Spelling        \n",
    "from textblob import TextBlob\n",
    "from nltk import bigrams, trigrams\n",
    "from collections import Counter, defaultdict\n",
    "from sklearn.feature_extraction.text import CountVectorizer\n",
    "from sklearn.naive_bayes import MultinomialNB\n",
    "from sklearn.pipeline import Pipeline"
   ]
  },
  {
   "cell_type": "code",
   "execution_count": 31,
   "id": "d2d215e0",
   "metadata": {},
   "outputs": [
    {
     "name": "stdout",
     "output_type": "stream",
     "text": [
      "https://www.youtube.com/watch?v=vsZYupeZ9Ao&ab_channel=ALTEXTV vsZYupeZ9Ao\n"
     ]
    }
   ],
   "source": [
    "# Access youtube video from video id from URL\n",
    "youtube_link = \"https://www.youtube.com/watch?v=vsZYupeZ9Ao&ab_channel=ALTEXTV\"\n",
    "# youtube_link = input('Enter youtube link:')\n",
    "video_id = re.findall(r'v=[a-zA-Z0-9]+', youtube_link)[0][2:]\n",
    "print(youtube_link, video_id)"
   ]
  },
  {
   "cell_type": "code",
   "execution_count": 32,
   "id": "9cd3095b",
   "metadata": {},
   "outputs": [
    {
     "name": "stdout",
     "output_type": "stream",
     "text": [
      "[{'text': 'our scene alive is a new action movie', 'start': 0.08, 'duration': 4.32}, {'text': 'that is coming to the big screen for you', 'start': 2.48, 'duration': 3.68}, {'text': 'all to go and check out this movie stars', 'start': 4.4, 'duration': 3.84}, {'text': 'gerard butler and if you guys know his', 'start': 6.16, 'duration': 3.6}, {'text': \"movie you know pretty much what you're\", 'start': 8.24, 'duration': 5.2}, {'text': 'gonna get this movie we follow him as he', 'start': 9.76, 'duration': 5.919}, {'text': 'is looking for his wife who has been', 'start': 13.44, 'duration': 4.08}, {'text': 'kidnapped', 'start': 15.679, 'duration': 3.121}, {'text': 'and', 'start': 17.52, 'duration': 3.519}, {'text': \"he's gone to do it by himself it's red\", 'start': 18.8, 'duration': 3.68}, {'text': \"bench phil so i'm going to tell you guys\", 'start': 21.039, 'duration': 2.641}, {'text': 'my thoughts on this movie let me know in', 'start': 22.48, 'duration': 2.32}, {'text': 'the comments below what do you guys', 'start': 23.68, 'duration': 2.88}, {'text': \"think of this movie or if you haven't\", 'start': 24.8, 'duration': 3.2}, {'text': 'seen it what are your thoughts on the', 'start': 26.56, 'duration': 3.119}, {'text': 'trailer are you excited smash it down', 'start': 28.0, 'duration': 2.96}, {'text': 'below smash that like button click', 'start': 29.679, 'duration': 2.961}, {'text': \"subscribe and let's jump into this\", 'start': 30.96, 'duration': 6.439}, {'text': 'review of last scene alive', 'start': 32.64, 'duration': 4.759}, {'text': 'okay so last scene alive is a revenge', 'start': 45.52, 'duration': 5.44}, {'text': \"field that's to its core\", 'start': 48.48, 'duration': 4.8}, {'text': \"that's what this film is it's a complete\", 'start': 50.96, 'duration': 5.279}, {'text': 'and utter revenge film so', 'start': 53.28, 'duration': 3.84}, {'text': 'me', 'start': 56.239, 'duration': 2.721}, {'text': \"i'm a sucker for those revenge fields so\", 'start': 57.12, 'duration': 3.919}, {'text': \"i mean we got john wick john wick's a\", 'start': 58.96, 'duration': 4.88}, {'text': \"classic revenge film we've got rambo\", 'start': 61.039, 'duration': 6.08}, {'text': \"revenge films we've got all these other\", 'start': 63.84, 'duration': 5.44}, {'text': \"revenge films and i'm pretty sure most\", 'start': 67.119, 'duration': 5.36}, {'text': \"people enjoy them because they're just\", 'start': 69.28, 'duration': 4.879}, {'text': 'so much fun and so much entertainment', 'start': 72.479, 'duration': 3.68}, {'text': 'and we like to see', 'start': 74.159, 'duration': 3.121}, {'text': 'the', 'start': 76.159, 'duration': 2.401}, {'text': 'good guys', 'start': 77.28, 'duration': 3.6}, {'text': \"absolutely murder bad guys it's just\", 'start': 78.56, 'duration': 4.239}, {'text': \"it's in our dna it's in our nature\", 'start': 80.88, 'duration': 3.84}, {'text': \"that's what we want to see\", 'start': 82.799, 'duration': 4.081}, {'text': 'when you put in jared butler', 'start': 84.72, 'duration': 3.759}, {'text': \"you know what you're going to get i mean\", 'start': 86.88, 'duration': 4.4}, {'text': 'angel has fallen the whole has fallen', 'start': 88.479, 'duration': 4.241}, {'text': \"trilogy you know what you're going to\", 'start': 91.28, 'duration': 4.4}, {'text': 'get from this guy he is the modern day', 'start': 92.72, 'duration': 5.039}, {'text': \"liam neeson that's what he is he does\", 'start': 95.68, 'duration': 3.92}, {'text': 'these little action films like this', 'start': 97.759, 'duration': 4.241}, {'text': 'these lower budget ones', 'start': 99.6, 'duration': 4.559}, {'text': 'just like liam neeson used to', 'start': 102.0, 'duration': 3.759}, {'text': \"that's what i put these in that in that\", 'start': 104.159, 'duration': 3.6}, {'text': \"sort of category this one's no different\", 'start': 105.759, 'duration': 5.761}, {'text': \"it's fun it is fun and i tell you what\", 'start': 107.759, 'duration': 6.081}, {'text': 'it has a lot more heart than i thought', 'start': 111.52, 'duration': 4.239}, {'text': 'this movie was going to have', 'start': 113.84, 'duration': 3.52}, {'text': 'way more heart', 'start': 115.759, 'duration': 3.04}, {'text': 'it started to pull up my strengths', 'start': 117.36, 'duration': 2.719}, {'text': 'because', 'start': 118.799, 'duration': 3.6}, {'text': \"jared butler's character\", 'start': 120.079, 'duration': 4.72}, {'text': 'i actually felt for him they did a', 'start': 122.399, 'duration': 3.921}, {'text': 'fantastic job', 'start': 124.799, 'duration': 4.481}, {'text': 'humanizing him to the point where', 'start': 126.32, 'duration': 5.44}, {'text': \"we don't just see him as this\", 'start': 129.28, 'duration': 4.64}, {'text': \"terrible husband we don't see him as\", 'start': 131.76, 'duration': 4.559}, {'text': \"this terrible human being we don't he's\", 'start': 133.92, 'duration': 5.6}, {'text': 'not even especially skilled', 'start': 136.319, 'duration': 4.961}, {'text': \"or anything like that he's just a\", 'start': 139.52, 'duration': 3.28}, {'text': 'regular', 'start': 141.28, 'duration': 3.36}, {'text': 'real estate agent', 'start': 142.8, 'duration': 3.92}, {'text': \"guy that's what he is he does real\", 'start': 144.64, 'duration': 3.84}, {'text': \"estate that's all it is\", 'start': 146.72, 'duration': 2.8}, {'text': 'but', 'start': 148.48, 'duration': 3.039}, {'text': 'what are they they did so well is they', 'start': 149.52, 'duration': 4.64}, {'text': 'showed us the whole background as we', 'start': 151.519, 'duration': 4.72}, {'text': 'move forward we see the whole background', 'start': 154.16, 'duration': 3.84}, {'text': \"of their relationship and that's what\", 'start': 156.239, 'duration': 3.36}, {'text': \"it's really built on\", 'start': 158.0, 'duration': 3.36}, {'text': 'we see the ups and downs', 'start': 159.599, 'duration': 2.881}, {'text': 'and we see', 'start': 161.36, 'duration': 3.36}, {'text': 'this guy that just really cares about', 'start': 162.48, 'duration': 4.64}, {'text': 'his wife and when you take that away', 'start': 164.72, 'duration': 4.879}, {'text': 'from him he is willing to do anything', 'start': 167.12, 'duration': 4.88}, {'text': 'and everything to get it back', 'start': 169.599, 'duration': 3.841}, {'text': \"and that's what i like about it they\", 'start': 172.0, 'duration': 3.44}, {'text': \"don't go over the top with him doing\", 'start': 173.44, 'duration': 4.879}, {'text': 'these insane skills of', 'start': 175.44, 'duration': 6.159}, {'text': 'like a secret agent a secret', 'start': 178.319, 'duration': 5.441}, {'text': \"soldier anything like that he doesn't do\", 'start': 181.599, 'duration': 4.72}, {'text': 'that he is just a generic guy and he', 'start': 183.76, 'duration': 5.36}, {'text': 'does what a generic person would do', 'start': 186.319, 'duration': 5.92}, {'text': \"so it's not polished and i respect that\", 'start': 189.12, 'duration': 5.28}, {'text': 'because they could have easily', 'start': 192.239, 'duration': 4.961}, {'text': 'wrote it to where he had served or done', 'start': 194.4, 'duration': 4.72}, {'text': \"something and he's like a special agent\", 'start': 197.2, 'duration': 3.52}, {'text': \"and that's why he can do all these cool\", 'start': 199.12, 'duration': 3.52}, {'text': \"skills or anything like but it's not\", 'start': 200.72, 'duration': 4.0}, {'text': \"that's not what it is and they really\", 'start': 202.64, 'duration': 5.2}, {'text': 'made it evident that you could actually', 'start': 204.72, 'duration': 5.2}, {'text': 'follow along and understand his', 'start': 207.84, 'duration': 4.24}, {'text': 'motivation to why he was doing it and', 'start': 209.92, 'duration': 4.72}, {'text': 'you could understand', 'start': 212.08, 'duration': 4.64}, {'text': \"exactly where he's coming from and when\", 'start': 214.64, 'duration': 4.239}, {'text': 'they showed us', 'start': 216.72, 'duration': 3.84}, {'text': 'all the stuff that happened with him and', 'start': 218.879, 'duration': 3.201}, {'text': 'his character', 'start': 220.56, 'duration': 4.16}, {'text': \"and how broken he is and how he's trying\", 'start': 222.08, 'duration': 4.0}, {'text': 'to build it up and he just wants to be', 'start': 224.72, 'duration': 3.68}, {'text': \"this great husband he's willing to do\", 'start': 226.08, 'duration': 3.92}, {'text': \"like some of the stuff he's gone through\", 'start': 228.4, 'duration': 3.68}, {'text': \"he's willing to still do\", 'start': 230.0, 'duration': 2.799}, {'text': 'like', 'start': 232.08, 'duration': 3.28}, {'text': \"be there for her like it's insane\", 'start': 232.799, 'duration': 4.321}, {'text': 'that really gets you on his side so', 'start': 235.36, 'duration': 4.239}, {'text': 'whenever he goes around and does kill', 'start': 237.12, 'duration': 4.56}, {'text': 'anyone anything like that', 'start': 239.599, 'duration': 4.56}, {'text': 'you just push it to the side and go yeah', 'start': 241.68, 'duration': 5.44}, {'text': 'justified justified so', 'start': 244.159, 'duration': 4.16}, {'text': 'that really really worked jamie', 'start': 247.12, 'duration': 3.839}, {'text': 'alexander as the wife she was good for', 'start': 248.319, 'duration': 4.321}, {'text': 'the what the whole 10 minutes she was on', 'start': 250.959, 'duration': 4.48}, {'text': 'screen for so she was great the cop i', 'start': 252.64, 'duration': 4.4}, {'text': 'enjoyed him as well', 'start': 255.439, 'duration': 3.681}, {'text': 'what they really did is they did the cop', 'start': 257.04, 'duration': 4.159}, {'text': 'storyline and his storyline as well you', 'start': 259.12, 'duration': 3.6}, {'text': 'know how they call the cops first then', 'start': 261.199, 'duration': 3.121}, {'text': 'the cops take forever so he goes [\\xa0__\\xa0] it', 'start': 262.72, 'duration': 3.6}, {'text': \"i'm gonna go do it myself that happens\", 'start': 264.32, 'duration': 3.92}, {'text': 'in this as well but i like the cop as', 'start': 266.32, 'duration': 4.0}, {'text': 'well he does a good job', 'start': 268.24, 'duration': 4.48}, {'text': 'the cinematography is great i really', 'start': 270.32, 'duration': 4.319}, {'text': 'enjoy the cinematography gorgeous', 'start': 272.72, 'duration': 3.36}, {'text': 'locations', 'start': 274.639, 'duration': 4.641}, {'text': 'the camera work was outstanding as well', 'start': 276.08, 'duration': 5.679}, {'text': 'this visual effects there is a massive', 'start': 279.28, 'duration': 4.88}, {'text': 'explosion and you can tell that it is', 'start': 281.759, 'duration': 3.281}, {'text': 'quite', 'start': 284.16, 'duration': 3.44}, {'text': 'evidently low budget which is fine', 'start': 285.04, 'duration': 3.52}, {'text': 'because', 'start': 287.6, 'duration': 2.879}, {'text': 'these movies are low budget so you kind', 'start': 288.56, 'duration': 3.919}, {'text': \"of got to expect that the effects aren't\", 'start': 290.479, 'duration': 4.561}, {'text': 'going to be like', 'start': 292.479, 'duration': 4.561}, {'text': 'comic book movie level', 'start': 295.04, 'duration': 4.48}, {'text': \"these don't have budgets of 50 plus\", 'start': 297.04, 'duration': 3.76}, {'text': 'million', 'start': 299.52, 'duration': 3.36}, {'text': 'these are the low low budgets and i like', 'start': 300.8, 'duration': 3.6}, {'text': \"these low budget action fields they're\", 'start': 302.88, 'duration': 3.599}, {'text': 'cool we need movies like this this is', 'start': 304.4, 'duration': 4.72}, {'text': 'just a nice fun time at the theater', 'start': 306.479, 'duration': 4.56}, {'text': 'and it has some suspense to it as well', 'start': 309.12, 'duration': 3.68}, {'text': \"there's a there's a scene\", 'start': 311.039, 'duration': 3.121}, {'text': 'where they do it really really well', 'start': 312.8, 'duration': 2.88}, {'text': \"where he's actually going around the\", 'start': 314.16, 'duration': 4.16}, {'text': 'house and the suspense is so good and', 'start': 315.68, 'duration': 4.64}, {'text': 'then you think oh', 'start': 318.32, 'duration': 3.92}, {'text': 'here it is here it is and then nothing', 'start': 320.32, 'duration': 4.0}, {'text': 'happens and then they go again and they', 'start': 322.24, 'duration': 3.44}, {'text': \"build up the suspense as well and it's\", 'start': 324.32, 'duration': 3.52}, {'text': \"the score that's building it up building\", 'start': 325.68, 'duration': 3.359}, {'text': \"up and you're waiting and you're on the\", 'start': 327.84, 'duration': 2.4}, {'text': 'edge of your seat', 'start': 329.039, 'duration': 3.121}, {'text': 'that stuff is awesome and i love to see', 'start': 330.24, 'duration': 3.84}, {'text': 'that in these type of films what it', 'start': 332.16, 'duration': 4.479}, {'text': 'really was evident in this film to me', 'start': 334.08, 'duration': 5.2}, {'text': 'was they were more focused on the story', 'start': 336.639, 'duration': 4.721}, {'text': 'element and humanizing and creating this', 'start': 339.28, 'duration': 4.16}, {'text': 'great character', 'start': 341.36, 'duration': 5.119}, {'text': 'rather than just', 'start': 343.44, 'duration': 3.039}, {'text': 'do some cool ass action movie that', 'start': 347.28, 'duration': 3.84}, {'text': \"doesn't make any sense so they really\", 'start': 349.52, 'duration': 3.519}, {'text': 'worked on that and i really appreciate', 'start': 351.12, 'duration': 4.32}, {'text': 'them doing that as for the villains of', 'start': 353.039, 'duration': 4.0}, {'text': 'the film', 'start': 355.44, 'duration': 3.44}, {'text': \"we don't know too much about them\", 'start': 357.039, 'duration': 4.081}, {'text': \"we it's\", 'start': 358.88, 'duration': 4.08}, {'text': \"it's a very one once you figure out what\", 'start': 361.12, 'duration': 4.4}, {'text': 'they were doing and everything like that', 'start': 362.96, 'duration': 5.2}, {'text': \"you're probably gonna be like oh okay i\", 'start': 365.52, 'duration': 3.519}, {'text': 'guess', 'start': 368.16, 'duration': 2.4}, {'text': \"that would they'll do but i mean it's\", 'start': 369.039, 'duration': 3.44}, {'text': \"revenge film it's a revenge film i don't\", 'start': 370.56, 'duration': 5.12}, {'text': 'need my villains to be these in-depth', 'start': 372.479, 'duration': 6.16}, {'text': 'story villains of like the vaders the', 'start': 375.68, 'duration': 5.28}, {'text': \"thanos's the loki's\", 'start': 378.639, 'duration': 3.921}, {'text': \"you know i don't need them to be like\", 'start': 380.96, 'duration': 4.48}, {'text': 'that i just need them to be', 'start': 382.56, 'duration': 4.8}, {'text': 'terrible human beings so i can root for', 'start': 385.44, 'duration': 4.08}, {'text': \"my hero that's gonna go around and just\", 'start': 387.36, 'duration': 4.72}, {'text': \"beat him up and do it and that's all i\", 'start': 389.52, 'duration': 3.92}, {'text': \"ask for and that's what this film\", 'start': 392.08, 'duration': 3.679}, {'text': 'delivers i could i could honestly sit', 'start': 393.44, 'duration': 4.08}, {'text': 'down and watch this movie again and', 'start': 395.759, 'duration': 3.121}, {'text': \"again and again it's just so\", 'start': 397.52, 'duration': 4.399}, {'text': 'entertaining it really is and the whole', 'start': 398.88, 'duration': 5.599}, {'text': 'first first act is them', 'start': 401.919, 'duration': 4.56}, {'text': 'building the character up our main', 'start': 404.479, 'duration': 4.321}, {'text': 'character they build him up and i', 'start': 406.479, 'duration': 4.56}, {'text': 'appreciate that because a lot of these', 'start': 408.8, 'duration': 4.08}, {'text': 'low budget actions can just go straight', 'start': 411.039, 'duration': 4.081}, {'text': 'into it but this one it took its time to', 'start': 412.88, 'duration': 5.36}, {'text': 'build it up and it made it make sense to', 'start': 415.12, 'duration': 5.359}, {'text': 'why certain things were happening and', 'start': 418.24, 'duration': 4.959}, {'text': \"that's what i appreciate so overall\", 'start': 420.479, 'duration': 4.0}, {'text': 'i actually really enjoyed this film', 'start': 423.199, 'duration': 2.961}, {'text': 'quite a lot is this going to be the best', 'start': 424.479, 'duration': 3.921}, {'text': 'film of the year no is it going to be my', 'start': 426.16, 'duration': 4.159}, {'text': 'top 10 best films of the year', 'start': 428.4, 'duration': 4.799}, {'text': 'no but i tell you what it was fun it was', 'start': 430.319, 'duration': 4.561}, {'text': 'entertaining it was exactly what i', 'start': 433.199, 'duration': 3.921}, {'text': 'thought it was going to be and more it', 'start': 434.88, 'duration': 4.159}, {'text': 'gave me that extra bit more', 'start': 437.12, 'duration': 3.68}, {'text': 'which i can really really really', 'start': 439.039, 'duration': 4.321}, {'text': 'appreciate and kudos to them like they', 'start': 440.8, 'duration': 5.04}, {'text': 'just they gave me a fun fun action film', 'start': 443.36, 'duration': 4.0}, {'text': \"that's all i can ask for so let me know\", 'start': 445.84, 'duration': 2.479}, {'text': 'in the comments below what did you guys', 'start': 447.36, 'duration': 2.239}, {'text': 'think of this movie did you love did you', 'start': 448.319, 'duration': 2.88}, {'text': 'hate it smash it down below smash that', 'start': 449.599, 'duration': 2.88}, {'text': \"like button click subscribe and i'll see\", 'start': 451.199, 'duration': 3.12}, {'text': 'you guys next video until then stay safe', 'start': 452.479, 'duration': 5.481}, {'text': 'and peace out', 'start': 454.319, 'duration': 3.641}]\n"
     ]
    }
   ],
   "source": [
    "# Get the transcript from youtube video\n",
    "youtube_api = YouTubeTranscriptApi.get_transcript(video_id)\n",
    "print(youtube_api)"
   ]
  },
  {
   "cell_type": "code",
   "execution_count": 33,
   "id": "f0f20b8a",
   "metadata": {},
   "outputs": [
    {
     "name": "stdout",
     "output_type": "stream",
     "text": [
      "our scene alive is a new action movie that is coming to the big screen for you all to go and check out this movie stars gerard butler and if you guys know his movie you know pretty much what you're gonna get this movie we follow him as he is looking for his wife who has been kidnapped and he's gone to do it by himself it's red bench phil so i'm going to tell you guys my thoughts on this movie let me know in the comments below what do you guys think of this movie or if you haven't seen it what are your thoughts on the trailer are you excited smash it down below smash that like button click subscribe and let's jump into this review of last scene alive okay so last scene alive is a revenge field that's to its core that's what this film is it's a complete and utter revenge film so me i'm a sucker for those revenge fields so i mean we got john wick john wick's a classic revenge film we've got rambo revenge films we've got all these other revenge films and i'm pretty sure most people enjoy them because they're just so much fun and so much entertainment and we like to see the good guys absolutely murder bad guys it's just it's in our dna it's in our nature that's what we want to see when you put in jared butler you know what you're going to get i mean angel has fallen the whole has fallen trilogy you know what you're going to get from this guy he is the modern day liam neeson that's what he is he does these little action films like this these lower budget ones just like liam neeson used to that's what i put these in that in that sort of category this one's no different it's fun it is fun and i tell you what it has a lot more heart than i thought this movie was going to have way more heart it started to pull up my strengths because jared butler's character i actually felt for him they did a fantastic job humanizing him to the point where we don't just see him as this terrible husband we don't see him as this terrible human being we don't he's not even especially skilled or anything like that he's just a regular real estate agent guy that's what he is he does real estate that's all it is but what are they they did so well is they showed us the whole background as we move forward we see the whole background of their relationship and that's what it's really built on we see the ups and downs and we see this guy that just really cares about his wife and when you take that away from him he is willing to do anything and everything to get it back and that's what i like about it they don't go over the top with him doing these insane skills of like a secret agent a secret soldier anything like that he doesn't do that he is just a generic guy and he does what a generic person would do so it's not polished and i respect that because they could have easily wrote it to where he had served or done something and he's like a special agent and that's why he can do all these cool skills or anything like but it's not that's not what it is and they really made it evident that you could actually follow along and understand his motivation to why he was doing it and you could understand exactly where he's coming from and when they showed us all the stuff that happened with him and his character and how broken he is and how he's trying to build it up and he just wants to be this great husband he's willing to do like some of the stuff he's gone through he's willing to still do like be there for her like it's insane that really gets you on his side so whenever he goes around and does kill anyone anything like that you just push it to the side and go yeah justified justified so that really really worked jamie alexander as the wife she was good for the what the whole 10 minutes she was on screen for so she was great the cop i enjoyed him as well what they really did is they did the cop storyline and his storyline as well you know how they call the cops first then the cops take forever so he goes [ __ ] it i'm gonna go do it myself that happens in this as well but i like the cop as well he does a good job the cinematography is great i really enjoy the cinematography gorgeous locations the camera work was outstanding as well this visual effects there is a massive explosion and you can tell that it is quite evidently low budget which is fine because these movies are low budget so you kind of got to expect that the effects aren't going to be like comic book movie level these don't have budgets of 50 plus million these are the low low budgets and i like these low budget action fields they're cool we need movies like this this is just a nice fun time at the theater and it has some suspense to it as well there's a there's a scene where they do it really really well where he's actually going around the house and the suspense is so good and then you think oh here it is here it is and then nothing happens and then they go again and they build up the suspense as well and it's the score that's building it up building up and you're waiting and you're on the edge of your seat that stuff is awesome and i love to see that in these type of films what it really was evident in this film to me was they were more focused on the story element and humanizing and creating this great character rather than just do some cool ass action movie that doesn't make any sense so they really worked on that and i really appreciate them doing that as for the villains of the film we don't know too much about them we it's it's a very one once you figure out what they were doing and everything like that you're probably gonna be like oh okay i guess that would they'll do but i mean it's revenge film it's a revenge film i don't need my villains to be these in-depth story villains of like the vaders the thanos's the loki's you know i don't need them to be like that i just need them to be terrible human beings so i can root for my hero that's gonna go around and just beat him up and do it and that's all i ask for and that's what this film delivers i could i could honestly sit down and watch this movie again and again and again it's just so entertaining it really is and the whole first first act is them building the character up our main character they build him up and i appreciate that because a lot of these low budget actions can just go straight into it but this one it took its time to build it up and it made it make sense to why certain things were happening and that's what i appreciate so overall i actually really enjoyed this film quite a lot is this going to be the best film of the year no is it going to be my top 10 best films of the year no but i tell you what it was fun it was entertaining it was exactly what i thought it was going to be and more it gave me that extra bit more which i can really really really appreciate and kudos to them like they just they gave me a fun fun action film that's all i can ask for so let me know in the comments below what did you guys think of this movie did you love did you hate it smash it down below smash that like button click subscribe and i'll see you guys next video until then stay safe and peace out\n"
     ]
    }
   ],
   "source": [
    "# Extract the text and concat\n",
    "youtube_text = \" \".join([item['text'].lower() for item in youtube_api])\n",
    "print(youtube_text)"
   ]
  },
  {
   "cell_type": "code",
   "execution_count": 34,
   "id": "ad743a1a",
   "metadata": {},
   "outputs": [
    {
     "name": "stdout",
     "output_type": "stream",
     "text": [
      "['our', 'scene', 'alive', 'is', 'a', 'new', 'action', 'movie', 'that', 'is', 'coming', 'to', 'the', 'big', 'screen', 'for', 'you', 'all', 'to', 'go', 'and', 'check', 'out', 'this', 'movie', 'stars', 'gerard', 'butler', 'and', 'if', 'you', 'guys', 'know', 'his', 'movie', 'you', 'know', 'pretty', 'much', 'what', 'you', \"'re\", 'gon', 'na', 'get', 'this', 'movie', 'we', 'follow', 'him', 'as', 'he', 'is', 'looking', 'for', 'his', 'wife', 'who', 'has', 'been', 'kidnapped', 'and', 'he', \"'s\", 'gone', 'to', 'do', 'it', 'by', 'himself', 'it', \"'s\", 'red', 'bench', 'phil', 'so', 'i', \"'m\", 'going', 'to', 'tell', 'you', 'guys', 'my', 'thoughts', 'on', 'this', 'movie', 'let', 'me', 'know', 'in', 'the', 'comments', 'below', 'what', 'do', 'you', 'guys', 'think', 'of', 'this', 'movie', 'or', 'if', 'you', 'have', \"n't\", 'seen', 'it', 'what', 'are', 'your', 'thoughts', 'on', 'the', 'trailer', 'are', 'you', 'excited', 'smash', 'it', 'down', 'below', 'smash', 'that', 'like', 'button', 'click', 'subscribe', 'and', 'let', \"'s\", 'jump', 'into', 'this', 'review', 'of', 'last', 'scene', 'alive', 'okay', 'so', 'last', 'scene', 'alive', 'is', 'a', 'revenge', 'field', 'that', \"'s\", 'to', 'its', 'core', 'that', \"'s\", 'what', 'this', 'film', 'is', 'it', \"'s\", 'a', 'complete', 'and', 'utter', 'revenge', 'film', 'so', 'me', 'i', \"'m\", 'a', 'sucker', 'for', 'those', 'revenge', 'fields', 'so', 'i', 'mean', 'we', 'got', 'john', 'wick', 'john', 'wick', \"'s\", 'a', 'classic', 'revenge', 'film', 'we', \"'ve\", 'got', 'rambo', 'revenge', 'films', 'we', \"'ve\", 'got', 'all', 'these', 'other', 'revenge', 'films', 'and', 'i', \"'m\", 'pretty', 'sure', 'most', 'people', 'enjoy', 'them', 'because', 'they', \"'re\", 'just', 'so', 'much', 'fun', 'and', 'so', 'much', 'entertainment', 'and', 'we', 'like', 'to', 'see', 'the', 'good', 'guys', 'absolutely', 'murder', 'bad', 'guys', 'it', \"'s\", 'just', 'it', \"'s\", 'in', 'our', 'dna', 'it', \"'s\", 'in', 'our', 'nature', 'that', \"'s\", 'what', 'we', 'want', 'to', 'see', 'when', 'you', 'put', 'in', 'jared', 'butler', 'you', 'know', 'what', 'you', \"'re\", 'going', 'to', 'get', 'i', 'mean', 'angel', 'has', 'fallen', 'the', 'whole', 'has', 'fallen', 'trilogy', 'you', 'know', 'what', 'you', \"'re\", 'going', 'to', 'get', 'from', 'this', 'guy', 'he', 'is', 'the', 'modern', 'day', 'liam', 'neeson', 'that', \"'s\", 'what', 'he', 'is', 'he', 'does', 'these', 'little', 'action', 'films', 'like', 'this', 'these', 'lower', 'budget', 'ones', 'just', 'like', 'liam', 'neeson', 'used', 'to', 'that', \"'s\", 'what', 'i', 'put', 'these', 'in', 'that', 'in', 'that', 'sort', 'of', 'category', 'this', 'one', \"'s\", 'no', 'different', 'it', \"'s\", 'fun', 'it', 'is', 'fun', 'and', 'i', 'tell', 'you', 'what', 'it', 'has', 'a', 'lot', 'more', 'heart', 'than', 'i', 'thought', 'this', 'movie', 'was', 'going', 'to', 'have', 'way', 'more', 'heart', 'it', 'started', 'to', 'pull', 'up', 'my', 'strengths', 'because', 'jared', 'butler', \"'s\", 'character', 'i', 'actually', 'felt', 'for', 'him', 'they', 'did', 'a', 'fantastic', 'job', 'humanizing', 'him', 'to', 'the', 'point', 'where', 'we', 'do', \"n't\", 'just', 'see', 'him', 'as', 'this', 'terrible', 'husband', 'we', 'do', \"n't\", 'see', 'him', 'as', 'this', 'terrible', 'human', 'being', 'we', 'do', \"n't\", 'he', \"'s\", 'not', 'even', 'especially', 'skilled', 'or', 'anything', 'like', 'that', 'he', \"'s\", 'just', 'a', 'regular', 'real', 'estate', 'agent', 'guy', 'that', \"'s\", 'what', 'he', 'is', 'he', 'does', 'real', 'estate', 'that', \"'s\", 'all', 'it', 'is', 'but', 'what', 'are', 'they', 'they', 'did', 'so', 'well', 'is', 'they', 'showed', 'us', 'the', 'whole', 'background', 'as', 'we', 'move', 'forward', 'we', 'see', 'the', 'whole', 'background', 'of', 'their', 'relationship', 'and', 'that', \"'s\", 'what', 'it', \"'s\", 'really', 'built', 'on', 'we', 'see', 'the', 'ups', 'and', 'downs', 'and', 'we', 'see', 'this', 'guy', 'that', 'just', 'really', 'cares', 'about', 'his', 'wife', 'and', 'when', 'you', 'take', 'that', 'away', 'from', 'him', 'he', 'is', 'willing', 'to', 'do', 'anything', 'and', 'everything', 'to', 'get', 'it', 'back', 'and', 'that', \"'s\", 'what', 'i', 'like', 'about', 'it', 'they', 'do', \"n't\", 'go', 'over', 'the', 'top', 'with', 'him', 'doing', 'these', 'insane', 'skills', 'of', 'like', 'a', 'secret', 'agent', 'a', 'secret', 'soldier', 'anything', 'like', 'that', 'he', 'does', \"n't\", 'do', 'that', 'he', 'is', 'just', 'a', 'generic', 'guy', 'and', 'he', 'does', 'what', 'a', 'generic', 'person', 'would', 'do', 'so', 'it', \"'s\", 'not', 'polished', 'and', 'i', 'respect', 'that', 'because', 'they', 'could', 'have', 'easily', 'wrote', 'it', 'to', 'where', 'he', 'had', 'served', 'or', 'done', 'something', 'and', 'he', \"'s\", 'like', 'a', 'special', 'agent', 'and', 'that', \"'s\", 'why', 'he', 'can', 'do', 'all', 'these', 'cool', 'skills', 'or', 'anything', 'like', 'but', 'it', \"'s\", 'not', 'that', \"'s\", 'not', 'what', 'it', 'is', 'and', 'they', 'really', 'made', 'it', 'evident', 'that', 'you', 'could', 'actually', 'follow', 'along', 'and', 'understand', 'his', 'motivation', 'to', 'why', 'he', 'was', 'doing', 'it', 'and', 'you', 'could', 'understand', 'exactly', 'where', 'he', \"'s\", 'coming', 'from', 'and', 'when', 'they', 'showed', 'us', 'all', 'the', 'stuff', 'that', 'happened', 'with', 'him', 'and', 'his', 'character', 'and', 'how', 'broken', 'he', 'is', 'and', 'how', 'he', \"'s\", 'trying', 'to', 'build', 'it', 'up', 'and', 'he', 'just', 'wants', 'to', 'be', 'this', 'great', 'husband', 'he', \"'s\", 'willing', 'to', 'do', 'like', 'some', 'of', 'the', 'stuff', 'he', \"'s\", 'gone', 'through', 'he', \"'s\", 'willing', 'to', 'still', 'do', 'like', 'be', 'there', 'for', 'her', 'like', 'it', \"'s\", 'insane', 'that', 'really', 'gets', 'you', 'on', 'his', 'side', 'so', 'whenever', 'he', 'goes', 'around', 'and', 'does', 'kill', 'anyone', 'anything', 'like', 'that', 'you', 'just', 'push', 'it', 'to', 'the', 'side', 'and', 'go', 'yeah', 'justified', 'justified', 'so', 'that', 'really', 'really', 'worked', 'jamie', 'alexander', 'as', 'the', 'wife', 'she', 'was', 'good', 'for', 'the', 'what', 'the', 'whole', '10', 'minutes', 'she', 'was', 'on', 'screen', 'for', 'so', 'she', 'was', 'great', 'the', 'cop', 'i', 'enjoyed', 'him', 'as', 'well', 'what', 'they', 'really', 'did', 'is', 'they', 'did', 'the', 'cop', 'storyline', 'and', 'his', 'storyline', 'as', 'well', 'you', 'know', 'how', 'they', 'call', 'the', 'cops', 'first', 'then', 'the', 'cops', 'take', 'forever', 'so', 'he', 'goes', '[', '__', ']', 'it', 'i', \"'m\", 'gon', 'na', 'go', 'do', 'it', 'myself', 'that', 'happens', 'in', 'this', 'as', 'well', 'but', 'i', 'like', 'the', 'cop', 'as', 'well', 'he', 'does', 'a', 'good', 'job', 'the', 'cinematography', 'is', 'great', 'i', 'really', 'enjoy', 'the', 'cinematography', 'gorgeous', 'locations', 'the', 'camera', 'work', 'was', 'outstanding', 'as', 'well', 'this', 'visual', 'effects', 'there', 'is', 'a', 'massive', 'explosion', 'and', 'you', 'can', 'tell', 'that', 'it', 'is', 'quite', 'evidently', 'low', 'budget', 'which', 'is', 'fine', 'because', 'these', 'movies', 'are', 'low', 'budget', 'so', 'you', 'kind', 'of', 'got', 'to', 'expect', 'that', 'the', 'effects', 'are', \"n't\", 'going', 'to', 'be', 'like', 'comic', 'book', 'movie', 'level', 'these', 'do', \"n't\", 'have', 'budgets', 'of', '50', 'plus', 'million', 'these', 'are', 'the', 'low', 'low', 'budgets', 'and', 'i', 'like', 'these', 'low', 'budget', 'action', 'fields', 'they', \"'re\", 'cool', 'we', 'need', 'movies', 'like', 'this', 'this', 'is', 'just', 'a', 'nice', 'fun', 'time', 'at', 'the', 'theater', 'and', 'it', 'has', 'some', 'suspense', 'to', 'it', 'as', 'well', 'there', \"'s\", 'a', 'there', \"'s\", 'a', 'scene', 'where', 'they', 'do', 'it', 'really', 'really', 'well', 'where', 'he', \"'s\", 'actually', 'going', 'around', 'the', 'house', 'and', 'the', 'suspense', 'is', 'so', 'good', 'and', 'then', 'you', 'think', 'oh', 'here', 'it', 'is', 'here', 'it', 'is', 'and', 'then', 'nothing', 'happens', 'and', 'then', 'they', 'go', 'again', 'and', 'they', 'build', 'up', 'the', 'suspense', 'as', 'well', 'and', 'it', \"'s\", 'the', 'score', 'that', \"'s\", 'building', 'it', 'up', 'building', 'up', 'and', 'you', \"'re\", 'waiting', 'and', 'you', \"'re\", 'on', 'the', 'edge', 'of', 'your', 'seat', 'that', 'stuff', 'is', 'awesome', 'and', 'i', 'love', 'to', 'see', 'that', 'in', 'these', 'type', 'of', 'films', 'what', 'it', 'really', 'was', 'evident', 'in', 'this', 'film', 'to', 'me', 'was', 'they', 'were', 'more', 'focused', 'on', 'the', 'story', 'element', 'and', 'humanizing', 'and', 'creating', 'this', 'great', 'character', 'rather', 'than', 'just', 'do', 'some', 'cool', 'ass', 'action', 'movie', 'that', 'does', \"n't\", 'make', 'any', 'sense', 'so', 'they', 'really', 'worked', 'on', 'that', 'and', 'i', 'really', 'appreciate', 'them', 'doing', 'that', 'as', 'for', 'the', 'villains', 'of', 'the', 'film', 'we', 'do', \"n't\", 'know', 'too', 'much', 'about', 'them', 'we', 'it', \"'s\", 'it', \"'s\", 'a', 'very', 'one', 'once', 'you', 'figure', 'out', 'what', 'they', 'were', 'doing', 'and', 'everything', 'like', 'that', 'you', \"'re\", 'probably', 'gon', 'na', 'be', 'like', 'oh', 'okay', 'i', 'guess', 'that', 'would', 'they', \"'ll\", 'do', 'but', 'i', 'mean', 'it', \"'s\", 'revenge', 'film', 'it', \"'s\", 'a', 'revenge', 'film', 'i', 'do', \"n't\", 'need', 'my', 'villains', 'to', 'be', 'these', 'in-depth', 'story', 'villains', 'of', 'like', 'the', 'vaders', 'the', 'thanos', \"'s\", 'the', 'loki', \"'s\", 'you', 'know', 'i', 'do', \"n't\", 'need', 'them', 'to', 'be', 'like', 'that', 'i', 'just', 'need', 'them', 'to', 'be', 'terrible', 'human', 'beings', 'so', 'i', 'can', 'root', 'for', 'my', 'hero', 'that', \"'s\", 'gon', 'na', 'go', 'around', 'and', 'just', 'beat', 'him', 'up', 'and', 'do', 'it', 'and', 'that', \"'s\", 'all', 'i', 'ask', 'for', 'and', 'that', \"'s\", 'what', 'this', 'film', 'delivers', 'i', 'could', 'i', 'could', 'honestly', 'sit', 'down', 'and', 'watch', 'this', 'movie', 'again', 'and', 'again', 'and', 'again', 'it', \"'s\", 'just', 'so', 'entertaining', 'it', 'really', 'is', 'and', 'the', 'whole', 'first', 'first', 'act', 'is', 'them', 'building', 'the', 'character', 'up', 'our', 'main', 'character', 'they', 'build', 'him', 'up', 'and', 'i', 'appreciate', 'that', 'because', 'a', 'lot', 'of', 'these', 'low', 'budget', 'actions', 'can', 'just', 'go', 'straight', 'into', 'it', 'but', 'this', 'one', 'it', 'took', 'its', 'time', 'to', 'build', 'it', 'up', 'and', 'it', 'made', 'it', 'make', 'sense', 'to', 'why', 'certain', 'things', 'were', 'happening', 'and', 'that', \"'s\", 'what', 'i', 'appreciate', 'so', 'overall', 'i', 'actually', 'really', 'enjoyed', 'this', 'film', 'quite', 'a', 'lot', 'is', 'this', 'going', 'to', 'be', 'the', 'best', 'film', 'of', 'the', 'year', 'no', 'is', 'it', 'going', 'to', 'be', 'my', 'top', '10', 'best', 'films', 'of', 'the', 'year', 'no', 'but', 'i', 'tell', 'you', 'what', 'it', 'was', 'fun', 'it', 'was', 'entertaining', 'it', 'was', 'exactly', 'what', 'i', 'thought', 'it', 'was', 'going', 'to', 'be', 'and', 'more', 'it', 'gave', 'me', 'that', 'extra', 'bit', 'more', 'which', 'i', 'can', 'really', 'really', 'really', 'appreciate', 'and', 'kudos', 'to', 'them', 'like', 'they', 'just', 'they', 'gave', 'me', 'a', 'fun', 'fun', 'action', 'film', 'that', \"'s\", 'all', 'i', 'can', 'ask', 'for', 'so', 'let', 'me', 'know', 'in', 'the', 'comments', 'below', 'what', 'did', 'you', 'guys', 'think', 'of', 'this', 'movie', 'did', 'you', 'love', 'did', 'you', 'hate', 'it', 'smash', 'it', 'down', 'below', 'smash', 'that', 'like', 'button', 'click', 'subscribe', 'and', 'i', \"'ll\", 'see', 'you', 'guys', 'next', 'video', 'until', 'then', 'stay', 'safe', 'and', 'peace', 'out']\n"
     ]
    }
   ],
   "source": [
    "# Tokenization with NLTK's tokenizer\n",
    "tokens = word_tokenize(youtube_text)\n",
    "print(tokens)"
   ]
  },
  {
   "cell_type": "code",
   "execution_count": 35,
   "id": "acdf5636",
   "metadata": {},
   "outputs": [
    {
     "name": "stdout",
     "output_type": "stream",
     "text": [
      "our:4\n",
      "scene:4\n",
      "alive:3\n",
      "is:29\n",
      "a:23\n",
      "new:1\n",
      "action:5\n",
      "movie:11\n",
      "that:46\n",
      "coming:2\n",
      "to:36\n",
      "the:45\n",
      "big:1\n",
      "screen:2\n",
      "for:11\n",
      "you:33\n",
      "all:7\n",
      "go:7\n",
      "and:61\n",
      "check:1\n",
      "out:3\n",
      "this:26\n",
      "stars:1\n",
      "gerard:1\n",
      "butler:3\n",
      "if:2\n",
      "guys:7\n",
      "know:9\n",
      "his:7\n",
      "pretty:2\n",
      "much:4\n",
      "what:25\n",
      "'re:8\n",
      "gon:4\n",
      "na:4\n",
      "get:4\n",
      "we:16\n",
      "follow:2\n",
      "him:11\n",
      "as:13\n",
      "he:28\n",
      "looking:1\n",
      "wife:3\n",
      "who:1\n",
      "has:5\n",
      "been:1\n",
      "kidnapped:1\n",
      "'s:51\n",
      "gone:2\n",
      "do:21\n",
      "it:56\n",
      "by:1\n",
      "himself:1\n",
      "red:1\n",
      "bench:1\n",
      "phil:1\n",
      "so:19\n",
      "i:35\n",
      "'m:4\n",
      "going:9\n",
      "tell:4\n",
      "my:5\n",
      "thoughts:2\n",
      "on:8\n",
      "let:3\n",
      "me:6\n",
      "in:10\n",
      "comments:2\n",
      "below:4\n",
      "think:3\n",
      "of:16\n",
      "or:4\n",
      "have:4\n",
      "n't:12\n",
      "seen:1\n",
      "are:6\n",
      "your:2\n",
      "trailer:1\n",
      "excited:1\n",
      "smash:4\n",
      "down:3\n",
      "like:24\n",
      "button:2\n",
      "click:2\n",
      "subscribe:2\n",
      "jump:1\n",
      "into:2\n",
      "review:1\n",
      "last:2\n",
      "okay:2\n",
      "revenge:8\n",
      "field:1\n",
      "its:2\n",
      "core:1\n",
      "film:11\n",
      "complete:1\n",
      "utter:1\n",
      "sucker:1\n",
      "those:1\n",
      "fields:2\n",
      "mean:3\n",
      "got:4\n",
      "john:2\n",
      "wick:2\n",
      "classic:1\n",
      "'ve:2\n",
      "rambo:1\n",
      "films:5\n",
      "these:13\n",
      "other:1\n",
      "sure:1\n",
      "most:1\n",
      "people:1\n",
      "enjoy:2\n",
      "them:7\n",
      "because:5\n",
      "they:23\n",
      "just:16\n",
      "fun:7\n",
      "entertainment:1\n",
      "see:9\n",
      "good:4\n",
      "absolutely:1\n",
      "murder:1\n",
      "bad:1\n",
      "dna:1\n",
      "nature:1\n",
      "want:1\n",
      "when:3\n",
      "put:2\n",
      "jared:2\n",
      "angel:1\n",
      "fallen:2\n",
      "whole:5\n",
      "trilogy:1\n",
      "from:3\n",
      "guy:4\n",
      "modern:1\n",
      "day:1\n",
      "liam:2\n",
      "neeson:2\n",
      "does:7\n",
      "little:1\n",
      "lower:1\n",
      "budget:5\n",
      "ones:1\n",
      "used:1\n",
      "sort:1\n",
      "category:1\n",
      "one:3\n",
      "no:3\n",
      "different:1\n",
      "lot:3\n",
      "more:5\n",
      "heart:2\n",
      "than:2\n",
      "thought:2\n",
      "was:12\n",
      "way:1\n",
      "started:1\n",
      "pull:1\n",
      "up:9\n",
      "strengths:1\n",
      "character:5\n",
      "actually:4\n",
      "felt:1\n",
      "did:7\n",
      "fantastic:1\n",
      "job:2\n",
      "humanizing:2\n",
      "point:1\n",
      "where:5\n",
      "terrible:3\n",
      "husband:2\n",
      "human:2\n",
      "being:1\n",
      "not:4\n",
      "even:1\n",
      "especially:1\n",
      "skilled:1\n",
      "anything:5\n",
      "regular:1\n",
      "real:2\n",
      "estate:2\n",
      "agent:3\n",
      "but:6\n",
      "well:9\n",
      "showed:2\n",
      "us:2\n",
      "background:2\n",
      "move:1\n",
      "forward:1\n",
      "their:1\n",
      "relationship:1\n",
      "really:18\n",
      "built:1\n",
      "ups:1\n",
      "downs:1\n",
      "cares:1\n",
      "about:3\n",
      "take:2\n",
      "away:1\n",
      "willing:3\n",
      "everything:2\n",
      "back:1\n",
      "over:1\n",
      "top:2\n",
      "with:2\n",
      "doing:4\n",
      "insane:2\n",
      "skills:2\n",
      "secret:2\n",
      "soldier:1\n",
      "generic:2\n",
      "person:1\n",
      "would:2\n",
      "polished:1\n",
      "respect:1\n",
      "could:5\n",
      "easily:1\n",
      "wrote:1\n",
      "had:1\n",
      "served:1\n",
      "done:1\n",
      "something:1\n",
      "special:1\n",
      "why:3\n",
      "can:6\n",
      "cool:3\n",
      "made:2\n",
      "evident:2\n",
      "along:1\n",
      "understand:2\n",
      "motivation:1\n",
      "exactly:2\n",
      "stuff:3\n",
      "happened:1\n",
      "how:3\n",
      "broken:1\n",
      "trying:1\n",
      "build:4\n",
      "wants:1\n",
      "be:10\n",
      "great:4\n",
      "some:3\n",
      "through:1\n",
      "still:1\n",
      "there:4\n",
      "her:1\n",
      "gets:1\n",
      "side:2\n",
      "whenever:1\n",
      "goes:2\n",
      "around:3\n",
      "kill:1\n",
      "anyone:1\n",
      "push:1\n",
      "yeah:1\n",
      "justified:2\n",
      "worked:2\n",
      "jamie:1\n",
      "alexander:1\n",
      "she:3\n",
      "10:2\n",
      "minutes:1\n",
      "cop:3\n",
      "enjoyed:2\n",
      "storyline:2\n",
      "call:1\n",
      "cops:2\n",
      "first:3\n",
      "then:5\n",
      "forever:1\n",
      "[:1\n",
      "__:1\n",
      "]:1\n",
      "myself:1\n",
      "happens:2\n",
      "cinematography:2\n",
      "gorgeous:1\n",
      "locations:1\n",
      "camera:1\n",
      "work:1\n",
      "outstanding:1\n",
      "visual:1\n",
      "effects:2\n",
      "massive:1\n",
      "explosion:1\n",
      "quite:2\n",
      "evidently:1\n",
      "low:6\n",
      "which:2\n",
      "fine:1\n",
      "movies:2\n",
      "kind:1\n",
      "expect:1\n",
      "comic:1\n",
      "book:1\n",
      "level:1\n",
      "budgets:2\n",
      "50:1\n",
      "plus:1\n",
      "million:1\n",
      "need:4\n",
      "nice:1\n",
      "time:2\n",
      "at:1\n",
      "theater:1\n",
      "suspense:3\n",
      "house:1\n",
      "oh:2\n",
      "here:2\n",
      "nothing:1\n",
      "again:4\n",
      "score:1\n",
      "building:3\n",
      "waiting:1\n",
      "edge:1\n",
      "seat:1\n",
      "awesome:1\n",
      "love:2\n",
      "type:1\n",
      "were:3\n",
      "focused:1\n",
      "story:2\n",
      "element:1\n",
      "creating:1\n",
      "rather:1\n",
      "ass:1\n",
      "make:2\n",
      "any:1\n",
      "sense:2\n",
      "appreciate:4\n",
      "villains:3\n",
      "too:1\n",
      "very:1\n",
      "once:1\n",
      "figure:1\n",
      "probably:1\n",
      "guess:1\n",
      "'ll:2\n",
      "in-depth:1\n",
      "vaders:1\n",
      "thanos:1\n",
      "loki:1\n",
      "beings:1\n",
      "root:1\n",
      "hero:1\n",
      "beat:1\n",
      "ask:2\n",
      "delivers:1\n",
      "honestly:1\n",
      "sit:1\n",
      "watch:1\n",
      "entertaining:2\n",
      "act:1\n",
      "main:1\n",
      "actions:1\n",
      "straight:1\n",
      "took:1\n",
      "certain:1\n",
      "things:1\n",
      "happening:1\n",
      "overall:1\n",
      "best:2\n",
      "year:2\n",
      "gave:2\n",
      "extra:1\n",
      "bit:1\n",
      "kudos:1\n",
      "hate:1\n",
      "next:1\n",
      "video:1\n",
      "until:1\n",
      "stay:1\n",
      "safe:1\n",
      "peace:1\n"
     ]
    }
   ],
   "source": [
    "# Count tokens frequencies\n",
    "freq = nltk.FreqDist(tokens)\n",
    "for key, val in freq.items():\n",
    "  print(str(key) + ':' + str(val))"
   ]
  },
  {
   "cell_type": "code",
   "execution_count": 36,
   "id": "3d602016",
   "metadata": {},
   "outputs": [
    {
     "data": {
      "image/png": "[encoded data removed]",
      "text/plain": [
       "<Figure size 640x480 with 1 Axes>"
      ]
     },
     "metadata": {},
     "output_type": "display_data"
    },
    {
     "data": {
      "text/plain": [
       "<AxesSubplot: xlabel='Samples', ylabel='Counts'>"
      ]
     },
     "execution_count": 36,
     "metadata": {},
     "output_type": "execute_result"
    }
   ],
   "source": [
    "# Draw diagram before normalization\n",
    "freq.plot(30, cumulative=False)"
   ]
  },
  {
   "cell_type": "code",
   "execution_count": 37,
   "id": "be4dd30e",
   "metadata": {},
   "outputs": [
    {
     "name": "stderr",
     "output_type": "stream",
     "text": [
      "[nltk_data] Downloading package stopwords to\n",
      "[nltk_data]     /Users/sanjib.paudel/nltk_data...\n",
      "[nltk_data]   Package stopwords is already up-to-date!\n"
     ]
    },
    {
     "data": {
      "text/plain": [
       "['i',\n",
       " 'me',\n",
       " 'my',\n",
       " 'myself',\n",
       " 'we',\n",
       " 'our',\n",
       " 'ours',\n",
       " 'ourselves',\n",
       " 'you',\n",
       " \"you're\",\n",
       " \"you've\",\n",
       " \"you'll\",\n",
       " \"you'd\",\n",
       " 'your',\n",
       " 'yours',\n",
       " 'yourself',\n",
       " 'yourselves',\n",
       " 'he',\n",
       " 'him',\n",
       " 'his',\n",
       " 'himself',\n",
       " 'she',\n",
       " \"she's\",\n",
       " 'her',\n",
       " 'hers',\n",
       " 'herself',\n",
       " 'it',\n",
       " \"it's\",\n",
       " 'its',\n",
       " 'itself',\n",
       " 'they',\n",
       " 'them',\n",
       " 'their',\n",
       " 'theirs',\n",
       " 'themselves',\n",
       " 'what',\n",
       " 'which',\n",
       " 'who',\n",
       " 'whom',\n",
       " 'this',\n",
       " 'that',\n",
       " \"that'll\",\n",
       " 'these',\n",
       " 'those',\n",
       " 'am',\n",
       " 'is',\n",
       " 'are',\n",
       " 'was',\n",
       " 'were',\n",
       " 'be',\n",
       " 'been',\n",
       " 'being',\n",
       " 'have',\n",
       " 'has',\n",
       " 'had',\n",
       " 'having',\n",
       " 'do',\n",
       " 'does',\n",
       " 'did',\n",
       " 'doing',\n",
       " 'a',\n",
       " 'an',\n",
       " 'the',\n",
       " 'and',\n",
       " 'but',\n",
       " 'if',\n",
       " 'or',\n",
       " 'because',\n",
       " 'as',\n",
       " 'until',\n",
       " 'while',\n",
       " 'of',\n",
       " 'at',\n",
       " 'by',\n",
       " 'for',\n",
       " 'with',\n",
       " 'about',\n",
       " 'against',\n",
       " 'between',\n",
       " 'into',\n",
       " 'through',\n",
       " 'during',\n",
       " 'before',\n",
       " 'after',\n",
       " 'above',\n",
       " 'below',\n",
       " 'to',\n",
       " 'from',\n",
       " 'up',\n",
       " 'down',\n",
       " 'in',\n",
       " 'out',\n",
       " 'on',\n",
       " 'off',\n",
       " 'over',\n",
       " 'under',\n",
       " 'again',\n",
       " 'further',\n",
       " 'then',\n",
       " 'once',\n",
       " 'here',\n",
       " 'there',\n",
       " 'when',\n",
       " 'where',\n",
       " 'why',\n",
       " 'how',\n",
       " 'all',\n",
       " 'any',\n",
       " 'both',\n",
       " 'each',\n",
       " 'few',\n",
       " 'more',\n",
       " 'most',\n",
       " 'other',\n",
       " 'some',\n",
       " 'such',\n",
       " 'no',\n",
       " 'nor',\n",
       " 'not',\n",
       " 'only',\n",
       " 'own',\n",
       " 'same',\n",
       " 'so',\n",
       " 'than',\n",
       " 'too',\n",
       " 'very',\n",
       " 's',\n",
       " 't',\n",
       " 'can',\n",
       " 'will',\n",
       " 'just',\n",
       " 'don',\n",
       " \"don't\",\n",
       " 'should',\n",
       " \"should've\",\n",
       " 'now',\n",
       " 'd',\n",
       " 'll',\n",
       " 'm',\n",
       " 'o',\n",
       " 're',\n",
       " 've',\n",
       " 'y',\n",
       " 'ain',\n",
       " 'aren',\n",
       " \"aren't\",\n",
       " 'couldn',\n",
       " \"couldn't\",\n",
       " 'didn',\n",
       " \"didn't\",\n",
       " 'doesn',\n",
       " \"doesn't\",\n",
       " 'hadn',\n",
       " \"hadn't\",\n",
       " 'hasn',\n",
       " \"hasn't\",\n",
       " 'haven',\n",
       " \"haven't\",\n",
       " 'isn',\n",
       " \"isn't\",\n",
       " 'ma',\n",
       " 'mightn',\n",
       " \"mightn't\",\n",
       " 'mustn',\n",
       " \"mustn't\",\n",
       " 'needn',\n",
       " \"needn't\",\n",
       " 'shan',\n",
       " \"shan't\",\n",
       " 'shouldn',\n",
       " \"shouldn't\",\n",
       " 'wasn',\n",
       " \"wasn't\",\n",
       " 'weren',\n",
       " \"weren't\",\n",
       " 'won',\n",
       " \"won't\",\n",
       " 'wouldn',\n",
       " \"wouldn't\"]"
      ]
     },
     "execution_count": 37,
     "metadata": {},
     "output_type": "execute_result"
    }
   ],
   "source": [
    "# List all Stop Words\n",
    "nltk.download('stopwords')\n",
    "from nltk.corpus import stopwords\n",
    "stopwords.words('english')"
   ]
  },
  {
   "cell_type": "code",
   "execution_count": 38,
   "id": "b33d88b1",
   "metadata": {},
   "outputs": [],
   "source": [
    "# Remove stopwords\n",
    "clean_tokens = tokens[:]\n",
    "sr = stopwords.words('english')\n",
    "for token in tokens:\n",
    "  if token in sr:\n",
    "    clean_tokens.remove(token)"
   ]
  },
  {
   "cell_type": "code",
   "execution_count": 39,
   "id": "27ae5adf",
   "metadata": {},
   "outputs": [
    {
     "name": "stdout",
     "output_type": "stream",
     "text": [
      "['scene', 'alive', 'new', 'action', 'movie', 'coming', 'big', 'screen', 'check', 'movie', 'stars', 'gerard', 'butler', 'guys', 'know', 'movie', 'know', 'pretty', 'much', 'gon', 'get', 'movie', 'follow', 'looking', 'wife', 'kidnapped', 'gone', 'red', 'bench', 'phil', 'going', 'tell', 'guys', 'thoughts', 'movie', 'let', 'know', 'comments', 'guys', 'think', 'movie', 'seen', 'thoughts', 'trailer', 'excited', 'smash', 'smash', 'like', 'button', 'click', 'subscribe', 'let', 'jump', 'review', 'last', 'scene', 'alive', 'okay', 'last', 'scene', 'alive', 'revenge', 'field', 'core', 'film', 'complete', 'utter', 'revenge', 'film', 'sucker', 'revenge', 'fields', 'mean', 'got', 'john', 'wick', 'john', 'wick', 'classic', 'revenge', 'film', 'got', 'rambo', 'revenge', 'films', 'got', 'revenge', 'films', 'pretty', 'sure', 'people', 'enjoy', 'much', 'fun', 'much', 'entertainment', 'like', 'see', 'good', 'guys', 'absolutely', 'murder', 'bad', 'guys', 'dna', 'nature', 'want', 'see', 'put', 'jared', 'butler', 'know', 'going', 'get', 'mean', 'angel', 'fallen', 'whole', 'fallen', 'trilogy', 'know', 'going', 'get', 'guy', 'modern', 'day', 'liam', 'neeson', 'little', 'action', 'films', 'like', 'lower', 'budget', 'ones', 'like', 'liam', 'neeson', 'used', 'put', 'sort', 'category', 'one', 'different', 'fun', 'fun', 'tell', 'lot', 'heart', 'thought', 'movie', 'going', 'way', 'heart', 'started', 'pull', 'strengths', 'jared', 'butler', 'character', 'actually', 'felt', 'fantastic', 'job', 'humanizing', 'point', 'see', 'terrible', 'husband', 'see', 'terrible', 'human', 'even', 'especially', 'skilled', 'anything', 'like', 'regular', 'real', 'estate', 'agent', 'guy', 'real', 'estate', 'well', 'showed', 'whole', 'background', 'move', 'forward', 'see', 'whole', 'background', 'relationship', 'really', 'built', 'see', 'ups', 'downs', 'see', 'guy', 'really', 'cares', 'wife', 'take', 'away', 'willing', 'anything', 'everything', 'get', 'back', 'like', 'top', 'insane', 'skills', 'like', 'secret', 'agent', 'secret', 'soldier', 'anything', 'like', 'generic', 'guy', 'generic', 'person', 'would', 'polished', 'respect', 'could', 'easily', 'wrote', 'served', 'done', 'something', 'like', 'special', 'agent', 'cool', 'skills', 'anything', 'like', 'really', 'made', 'evident', 'could', 'actually', 'follow', 'along', 'understand', 'motivation', 'could', 'understand', 'exactly', 'coming', 'showed', 'stuff', 'happened', 'character', 'broken', 'trying', 'build', 'wants', 'great', 'husband', 'willing', 'like', 'stuff', 'gone', 'willing', 'still', 'like', 'like', 'insane', 'really', 'gets', 'side', 'whenever', 'goes', 'around', 'kill', 'anyone', 'anything', 'like', 'push', 'side', 'yeah', 'justified', 'justified', 'really', 'really', 'worked', 'jamie', 'alexander', 'wife', 'good', 'whole', 'minutes', 'screen', 'great', 'cop', 'enjoyed', 'well', 'really', 'cop', 'storyline', 'storyline', 'well', 'know', 'call', 'cops', 'first', 'cops', 'take', 'forever', 'goes', 'gon', 'happens', 'well', 'like', 'cop', 'well', 'good', 'job', 'cinematography', 'great', 'really', 'enjoy', 'cinematography', 'gorgeous', 'locations', 'camera', 'work', 'outstanding', 'well', 'visual', 'effects', 'massive', 'explosion', 'tell', 'quite', 'evidently', 'low', 'budget', 'fine', 'movies', 'low', 'budget', 'kind', 'got', 'expect', 'effects', 'going', 'like', 'comic', 'book', 'movie', 'level', 'budgets', 'plus', 'million', 'low', 'low', 'budgets', 'like', 'low', 'budget', 'action', 'fields', 'cool', 'need', 'movies', 'like', 'nice', 'fun', 'time', 'theater', 'suspense', 'well', 'scene', 'really', 'really', 'well', 'actually', 'going', 'around', 'house', 'suspense', 'good', 'think', 'nothing', 'happens', 'build', 'suspense', 'well', 'score', 'building', 'building', 'waiting', 'edge', 'seat', 'stuff', 'awesome', 'love', 'see', 'type', 'films', 'really', 'evident', 'film', 'focused', 'story', 'element', 'humanizing', 'creating', 'great', 'character', 'rather', 'cool', 'ass', 'action', 'movie', 'make', 'sense', 'really', 'worked', 'really', 'appreciate', 'villains', 'film', 'know', 'much', 'one', 'figure', 'everything', 'like', 'probably', 'gon', 'like', 'okay', 'guess', 'would', 'mean', 'revenge', 'film', 'revenge', 'film', 'need', 'villains', 'depth', 'story', 'villains', 'like', 'vaders', 'thanos', 'loki', 'know', 'need', 'like', 'need', 'terrible', 'human', 'beings', 'root', 'hero', 'gon', 'around', 'beat', 'ask', 'film', 'delivers', 'could', 'could', 'honestly', 'sit', 'watch', 'movie', 'entertaining', 'really', 'whole', 'first', 'first', 'act', 'building', 'character', 'main', 'character', 'build', 'appreciate', 'lot', 'low', 'budget', 'actions', 'straight', 'one', 'took', 'time', 'build', 'made', 'make', 'sense', 'certain', 'things', 'happening', 'appreciate', 'overall', 'actually', 'really', 'enjoyed', 'film', 'quite', 'lot', 'going', 'best', 'film', 'year', 'going', 'top', 'best', 'films', 'year', 'tell', 'fun', 'entertaining', 'exactly', 'thought', 'going', 'gave', 'extra', 'bit', 'really', 'really', 'really', 'appreciate', 'kudos', 'like', 'gave', 'fun', 'fun', 'action', 'film', 'ask', 'let', 'know', 'comments', 'guys', 'think', 'movie', 'love', 'hate', 'smash', 'smash', 'like', 'button', 'click', 'subscribe', 'see', 'guys', 'next', 'video', 'stay', 'safe', 'peace']\n"
     ]
    }
   ],
   "source": [
    "# Use regex to select only words with three or more characters\n",
    "clean_text = \" \".join(clean_tokens)\n",
    "re_pattern = r'[a-z][a-z][a-z]+'\n",
    "clean_tokens = re.findall(re_pattern, clean_text)\n",
    "print(clean_tokens)"
   ]
  },
  {
   "cell_type": "code",
   "execution_count": 40,
   "id": "35b7dcea",
   "metadata": {},
   "outputs": [
    {
     "name": "stdout",
     "output_type": "stream",
     "text": [
      "['scene', 'alive', 'new', 'action', 'movie', 'coming', 'big', 'screen', 'check', 'movie', 'star', 'gerard', 'butler', 'guy', 'know', 'movie', 'know', 'pretty', 'much', 'gon', 'get', 'movie', 'follow', 'looking', 'wife', 'kidnapped', 'gone', 'red', 'bench', 'phil', 'going', 'tell', 'guy', 'thought', 'movie', 'let', 'know', 'comment', 'guy', 'think', 'movie', 'seen', 'thought', 'trailer', 'excited', 'smash', 'smash', 'like', 'button', 'click', 'subscribe', 'let', 'jump', 'review', 'last', 'scene', 'alive', 'okay', 'last', 'scene', 'alive', 'revenge', 'field', 'core', 'film', 'complete', 'utter', 'revenge', 'film', 'sucker', 'revenge', 'field', 'mean', 'got', 'john', 'wick', 'john', 'wick', 'classic', 'revenge', 'film', 'got', 'rambo', 'revenge', 'film', 'got', 'revenge', 'film', 'pretty', 'sure', 'people', 'enjoy', 'much', 'fun', 'much', 'entertainment', 'like', 'see', 'good', 'guy', 'absolutely', 'murder', 'bad', 'guy', 'dna', 'nature', 'want', 'see', 'put', 'jared', 'butler', 'know', 'going', 'get', 'mean', 'angel', 'fallen', 'whole', 'fallen', 'trilogy', 'know', 'going', 'get', 'guy', 'modern', 'day', 'liam', 'neeson', 'little', 'action', 'film', 'like', 'lower', 'budget', 'one', 'like', 'liam', 'neeson', 'used', 'put', 'sort', 'category', 'one', 'different', 'fun', 'fun', 'tell', 'lot', 'heart', 'thought', 'movie', 'going', 'way', 'heart', 'started', 'pull', 'strength', 'jared', 'butler', 'character', 'actually', 'felt', 'fantastic', 'job', 'humanizing', 'point', 'see', 'terrible', 'husband', 'see', 'terrible', 'human', 'even', 'especially', 'skilled', 'anything', 'like', 'regular', 'real', 'estate', 'agent', 'guy', 'real', 'estate', 'well', 'showed', 'whole', 'background', 'move', 'forward', 'see', 'whole', 'background', 'relationship', 'really', 'built', 'see', 'ups', 'down', 'see', 'guy', 'really', 'care', 'wife', 'take', 'away', 'willing', 'anything', 'everything', 'get', 'back', 'like', 'top', 'insane', 'skill', 'like', 'secret', 'agent', 'secret', 'soldier', 'anything', 'like', 'generic', 'guy', 'generic', 'person', 'would', 'polished', 'respect', 'could', 'easily', 'wrote', 'served', 'done', 'something', 'like', 'special', 'agent', 'cool', 'skill', 'anything', 'like', 'really', 'made', 'evident', 'could', 'actually', 'follow', 'along', 'understand', 'motivation', 'could', 'understand', 'exactly', 'coming', 'showed', 'stuff', 'happened', 'character', 'broken', 'trying', 'build', 'want', 'great', 'husband', 'willing', 'like', 'stuff', 'gone', 'willing', 'still', 'like', 'like', 'insane', 'really', 'get', 'side', 'whenever', 'go', 'around', 'kill', 'anyone', 'anything', 'like', 'push', 'side', 'yeah', 'justified', 'justified', 'really', 'really', 'worked', 'jamie', 'alexander', 'wife', 'good', 'whole', 'minute', 'screen', 'great', 'cop', 'enjoyed', 'well', 'really', 'cop', 'storyline', 'storyline', 'well', 'know', 'call', 'cop', 'first', 'cop', 'take', 'forever', 'go', 'gon', 'happens', 'well', 'like', 'cop', 'well', 'good', 'job', 'cinematography', 'great', 'really', 'enjoy', 'cinematography', 'gorgeous', 'location', 'camera', 'work', 'outstanding', 'well', 'visual', 'effect', 'massive', 'explosion', 'tell', 'quite', 'evidently', 'low', 'budget', 'fine', 'movie', 'low', 'budget', 'kind', 'got', 'expect', 'effect', 'going', 'like', 'comic', 'book', 'movie', 'level', 'budget', 'plus', 'million', 'low', 'low', 'budget', 'like', 'low', 'budget', 'action', 'field', 'cool', 'need', 'movie', 'like', 'nice', 'fun', 'time', 'theater', 'suspense', 'well', 'scene', 'really', 'really', 'well', 'actually', 'going', 'around', 'house', 'suspense', 'good', 'think', 'nothing', 'happens', 'build', 'suspense', 'well', 'score', 'building', 'building', 'waiting', 'edge', 'seat', 'stuff', 'awesome', 'love', 'see', 'type', 'film', 'really', 'evident', 'film', 'focused', 'story', 'element', 'humanizing', 'creating', 'great', 'character', 'rather', 'cool', 'as', 'action', 'movie', 'make', 'sense', 'really', 'worked', 'really', 'appreciate', 'villain', 'film', 'know', 'much', 'one', 'figure', 'everything', 'like', 'probably', 'gon', 'like', 'okay', 'guess', 'would', 'mean', 'revenge', 'film', 'revenge', 'film', 'need', 'villain', 'depth', 'story', 'villain', 'like', 'vaders', 'thanos', 'loki', 'know', 'need', 'like', 'need', 'terrible', 'human', 'being', 'root', 'hero', 'gon', 'around', 'beat', 'ask', 'film', 'delivers', 'could', 'could', 'honestly', 'sit', 'watch', 'movie', 'entertaining', 'really', 'whole', 'first', 'first', 'act', 'building', 'character', 'main', 'character', 'build', 'appreciate', 'lot', 'low', 'budget', 'action', 'straight', 'one', 'took', 'time', 'build', 'made', 'make', 'sense', 'certain', 'thing', 'happening', 'appreciate', 'overall', 'actually', 'really', 'enjoyed', 'film', 'quite', 'lot', 'going', 'best', 'film', 'year', 'going', 'top', 'best', 'film', 'year', 'tell', 'fun', 'entertaining', 'exactly', 'thought', 'going', 'gave', 'extra', 'bit', 'really', 'really', 'really', 'appreciate', 'kudos', 'like', 'gave', 'fun', 'fun', 'action', 'film', 'ask', 'let', 'know', 'comment', 'guy', 'think', 'movie', 'love', 'hate', 'smash', 'smash', 'like', 'button', 'click', 'subscribe', 'see', 'guy', 'next', 'video', 'stay', 'safe', 'peace']\n"
     ]
    }
   ],
   "source": [
    "# Lemmetize words with WordNetLemmatizer\n",
    "lemmatizer = WordNetLemmatizer() \n",
    "lemma_tokens = [lemmatizer.lemmatize(word) for word in clean_tokens]\n",
    "print(lemma_tokens)"
   ]
  },
  {
   "cell_type": "code",
   "execution_count": 41,
   "id": "31f667d1",
   "metadata": {},
   "outputs": [
    {
     "name": "stdout",
     "output_type": "stream",
     "text": [
      "scene:4\n",
      "alive:3\n",
      "new:1\n",
      "action:6\n",
      "movie:13\n",
      "coming:2\n",
      "big:1\n",
      "screen:2\n",
      "check:1\n",
      "star:1\n",
      "gerard:1\n",
      "butler:3\n",
      "guy:11\n",
      "know:9\n",
      "pretty:2\n",
      "much:4\n",
      "gon:4\n",
      "get:5\n",
      "follow:2\n",
      "looking:1\n",
      "wife:3\n",
      "kidnapped:1\n",
      "gone:2\n",
      "red:1\n",
      "bench:1\n",
      "phil:1\n",
      "going:9\n",
      "tell:4\n",
      "thought:4\n",
      "let:3\n",
      "comment:2\n",
      "think:3\n",
      "seen:1\n",
      "trailer:1\n",
      "excited:1\n",
      "smash:4\n",
      "like:24\n",
      "button:2\n",
      "click:2\n",
      "subscribe:2\n",
      "jump:1\n",
      "review:1\n",
      "last:2\n",
      "okay:2\n",
      "revenge:8\n",
      "field:3\n",
      "core:1\n",
      "film:16\n",
      "complete:1\n",
      "utter:1\n",
      "sucker:1\n",
      "mean:3\n",
      "got:4\n",
      "john:2\n",
      "wick:2\n",
      "classic:1\n",
      "rambo:1\n",
      "sure:1\n",
      "people:1\n",
      "enjoy:2\n",
      "fun:7\n",
      "entertainment:1\n",
      "see:9\n",
      "good:4\n",
      "absolutely:1\n",
      "murder:1\n",
      "bad:1\n",
      "dna:1\n",
      "nature:1\n",
      "want:2\n",
      "put:2\n",
      "jared:2\n",
      "angel:1\n",
      "fallen:2\n",
      "whole:5\n",
      "trilogy:1\n",
      "modern:1\n",
      "day:1\n",
      "liam:2\n",
      "neeson:2\n",
      "little:1\n",
      "lower:1\n",
      "budget:7\n",
      "one:4\n",
      "used:1\n",
      "sort:1\n",
      "category:1\n",
      "different:1\n",
      "lot:3\n",
      "heart:2\n",
      "way:1\n",
      "started:1\n",
      "pull:1\n",
      "strength:1\n",
      "character:5\n",
      "actually:4\n",
      "felt:1\n",
      "fantastic:1\n",
      "job:2\n",
      "humanizing:2\n",
      "point:1\n",
      "terrible:3\n",
      "husband:2\n",
      "human:2\n",
      "even:1\n",
      "especially:1\n",
      "skilled:1\n",
      "anything:5\n",
      "regular:1\n",
      "real:2\n",
      "estate:2\n",
      "agent:3\n",
      "well:9\n",
      "showed:2\n",
      "background:2\n",
      "move:1\n",
      "forward:1\n",
      "relationship:1\n",
      "really:18\n",
      "built:1\n",
      "ups:1\n",
      "down:1\n",
      "care:1\n",
      "take:2\n",
      "away:1\n",
      "willing:3\n",
      "everything:2\n",
      "back:1\n",
      "top:2\n",
      "insane:2\n",
      "skill:2\n",
      "secret:2\n",
      "soldier:1\n",
      "generic:2\n",
      "person:1\n",
      "would:2\n",
      "polished:1\n",
      "respect:1\n",
      "could:5\n",
      "easily:1\n",
      "wrote:1\n",
      "served:1\n",
      "done:1\n",
      "something:1\n",
      "special:1\n",
      "cool:3\n",
      "made:2\n",
      "evident:2\n",
      "along:1\n",
      "understand:2\n",
      "motivation:1\n",
      "exactly:2\n",
      "stuff:3\n",
      "happened:1\n",
      "broken:1\n",
      "trying:1\n",
      "build:4\n",
      "great:4\n",
      "still:1\n",
      "side:2\n",
      "whenever:1\n",
      "go:2\n",
      "around:3\n",
      "kill:1\n",
      "anyone:1\n",
      "push:1\n",
      "yeah:1\n",
      "justified:2\n",
      "worked:2\n",
      "jamie:1\n",
      "alexander:1\n",
      "minute:1\n",
      "cop:5\n",
      "enjoyed:2\n",
      "storyline:2\n",
      "call:1\n",
      "first:3\n",
      "forever:1\n",
      "happens:2\n",
      "cinematography:2\n",
      "gorgeous:1\n",
      "location:1\n",
      "camera:1\n",
      "work:1\n",
      "outstanding:1\n",
      "visual:1\n",
      "effect:2\n",
      "massive:1\n",
      "explosion:1\n",
      "quite:2\n",
      "evidently:1\n",
      "low:6\n",
      "fine:1\n",
      "kind:1\n",
      "expect:1\n",
      "comic:1\n",
      "book:1\n",
      "level:1\n",
      "plus:1\n",
      "million:1\n",
      "need:4\n",
      "nice:1\n",
      "time:2\n",
      "theater:1\n",
      "suspense:3\n",
      "house:1\n",
      "nothing:1\n",
      "score:1\n",
      "building:3\n",
      "waiting:1\n",
      "edge:1\n",
      "seat:1\n",
      "awesome:1\n",
      "love:2\n",
      "type:1\n",
      "focused:1\n",
      "story:2\n",
      "element:1\n",
      "creating:1\n",
      "rather:1\n",
      "as:1\n",
      "make:2\n",
      "sense:2\n",
      "appreciate:4\n",
      "villain:3\n",
      "figure:1\n",
      "probably:1\n",
      "guess:1\n",
      "depth:1\n",
      "vaders:1\n",
      "thanos:1\n",
      "loki:1\n",
      "being:1\n",
      "root:1\n",
      "hero:1\n",
      "beat:1\n",
      "ask:2\n",
      "delivers:1\n",
      "honestly:1\n",
      "sit:1\n",
      "watch:1\n",
      "entertaining:2\n",
      "act:1\n",
      "main:1\n",
      "straight:1\n",
      "took:1\n",
      "certain:1\n",
      "thing:1\n",
      "happening:1\n",
      "overall:1\n",
      "best:2\n",
      "year:2\n",
      "gave:2\n",
      "extra:1\n",
      "bit:1\n",
      "kudos:1\n",
      "hate:1\n",
      "next:1\n",
      "video:1\n",
      "stay:1\n",
      "safe:1\n",
      "peace:1\n"
     ]
    }
   ],
   "source": [
    "# Count the frequencies of words after normalizations\n",
    "lemma_tokens_freq = nltk.FreqDist(lemma_tokens)\n",
    "for key, val in lemma_tokens_freq.items():\n",
    "  print(str(key) + ':' + str(val))"
   ]
  },
  {
   "cell_type": "code",
   "execution_count": 42,
   "id": "f2a20c59",
   "metadata": {},
   "outputs": [
    {
     "data": {
      "image/png": "[encoded data removed]",
      "text/plain": [
       "<Figure size 640x480 with 1 Axes>"
      ]
     },
     "metadata": {},
     "output_type": "display_data"
    },
    {
     "data": {
      "text/plain": [
       "<AxesSubplot: xlabel='Samples', ylabel='Counts'>"
      ]
     },
     "execution_count": 42,
     "metadata": {},
     "output_type": "execute_result"
    }
   ],
   "source": [
    "# Draw the graph after normalization\n",
    "lemma_tokens_freq.plot(30, cumulative=False)"
   ]
  },
  {
   "cell_type": "code",
   "execution_count": 43,
   "id": "ebe1f8dc",
   "metadata": {},
   "outputs": [],
   "source": [
    "# Methods to clean, create sequence and encode for sentences\n",
    "# Clean word for sentences\n",
    "def text_cleaner(text):\n",
    "    # lower case text\n",
    "    newString = text.lower()\n",
    "    newString = re.sub(r\"'s\\b\",\"\",newString)\n",
    "    # remove punctuations\n",
    "    newString = re.sub(\"[^a-zA-Z]\", \" \", newString) \n",
    "    long_words=[]\n",
    "    # remove short word\n",
    "    for i in newString.split():\n",
    "        if len(i)>=3:                  \n",
    "            long_words.append(i)\n",
    "    return (\" \".join(long_words)).strip()\n",
    "\n",
    "# Create a sequence os words\n",
    "def create_seq(text):\n",
    "    length = 30\n",
    "    sequences = list()\n",
    "    for i in range(length, len(text)):\n",
    "        # select sequence of tokens\n",
    "        seq = text[i-length:i+1]\n",
    "        # store\n",
    "        sequences.append(seq)\n",
    "    print('Total Sequences: %d' % len(sequences))\n",
    "    return sequences\n",
    "\n",
    "# Encode sequences\n",
    "def encode_seq(seq):\n",
    "    sequences = list()\n",
    "    for line in seq:\n",
    "#         print([mapping[char] for char in line])\n",
    "        # integer encode line\n",
    "        encoded_seq = [mapping[char] for char in line]\n",
    "        # store\n",
    "        sequences.append(encoded_seq)\n",
    "    return sequences"
   ]
  },
  {
   "cell_type": "code",
   "execution_count": 44,
   "id": "461f54a9",
   "metadata": {},
   "outputs": [
    {
     "name": "stdout",
     "output_type": "stream",
     "text": [
      "Total Sequences: 5878\n",
      "[[15, 21, 18, 0, 19, 3, 5, 14, 5, 0, 1, 12, 9, 22, 5, 0, 14, 5, 23, 0, 1, 3, 20, 9, 15, 14, 0, 13, 15, 22, 9], [21, 18, 0, 19, 3, 5, 14, 5, 0, 1, 12, 9, 22, 5, 0, 14, 5, 23, 0, 1, 3, 20, 9, 15, 14, 0, 13, 15, 22, 9, 5], [18, 0, 19, 3, 5, 14, 5, 0, 1, 12, 9, 22, 5, 0, 14, 5, 23, 0, 1, 3, 20, 9, 15, 14, 0, 13, 15, 22, 9, 5, 0], [0, 19, 3, 5, 14, 5, 0, 1, 12, 9, 22, 5, 0, 14, 5, 23, 0, 1, 3, 20, 9, 15, 14, 0, 13, 15, 22, 9, 5, 0, 20], [19, 3, 5, 14, 5, 0, 1, 12, 9, 22, 5, 0, 14, 5, 23, 0, 1, 3, 20, 9, 15, 14, 0, 13, 15, 22, 9, 5, 0, 20, 8], [3, 5, 14, 5, 0, 1, 12, 9, 22, 5, 0, 14, 5, 23, 0, 1, 3, 20, 9, 15, 14, 0, 13, 15, 22, 9, 5, 0, 20, 8, 1], [5, 14, 5, 0, 1, 12, 9, 22, 5, 0, 14, 5, 23, 0, 1, 3, 20, 9, 15, 14, 0, 13, 15, 22, 9, 5, 0, 20, 8, 1, 20], [14, 5, 0, 1, 12, 9, 22, 5, 0, 14, 5, 23, 0, 1, 3, 20, 9, 15, 14, 0, 13, 15, 22, 9, 5, 0, 20, 8, 1, 20, 0], [5, 0, 1, 12, 9, 22, 5, 0, 14, 5, 23, 0, 1, 3, 20, 9, 15, 14, 0, 13, 15, 22, 9, 5, 0, 20, 8, 1, 20, 0, 3], [0, 1, 12, 9, 22, 5, 0, 14, 5, 23, 0, 1, 3, 20, 9, 15, 14, 0, 13, 15, 22, 9, 5, 0, 20, 8, 1, 20, 0, 3, 15]]\n"
     ]
    }
   ],
   "source": [
    "clean_summary = text_cleaner(youtube_text) # generate clean summary without \n",
    "seq_summary = create_seq(clean_summary) # generate clean summary sequence\n",
    "chars = sorted(list(set(clean_summary)))\n",
    "mapping = dict((c, i) for i, c in enumerate(chars))\n",
    "encoded_seq = encode_seq(seq_summary) # generate clean summary encode\n",
    "print(encoded_seq[:10])"
   ]
  },
  {
   "cell_type": "code",
   "execution_count": 45,
   "id": "aa503d19",
   "metadata": {},
   "outputs": [
    {
     "name": "stdout",
     "output_type": "stream",
     "text": [
      "Number of sentences:  9\n",
      "['our scene alive new action movie that come the big screen for you all and check out this movie star gerard butler and you guy know his movie you know pretty much what you goto get this movie follow he look for his wife who have be kidnap and go himself red bench phil going tell you guy thought this movie let know the comment below what you guy think this movie you haven see what be your thought the trailer be you excited smash down below smash that like button click subscribe and let jump into this review last scene alive okay last scene alive revenge field that its core that what this film complete and utter revenge film sucker for those revenge field mean get john wick john wick classic revenge film get rambo revenge film get all these other revenge film and pretty sure most people enjoy they because they just much fun and much entertainment and like see the good guy absolutely murder bad guy just our dna our nature that what want see when you put jar butler you know what you go get mean angel have fall the whole have fall trilogy you know what you go get from this guy the modern day liam neeson that what do these little action film like this these low budget one just like liam neeson use that what put these that that sort category this one different fun fun and tell you what have lot more heart than think this movie be go have way more heart started pull strength because jared butler character actually feel for he they do fantastic job humanize he the point where don just see he this terrible husband don see he this terrible human being don not even especially skilled anything like that just regular real estate agent guy that what do real estate that all but what be they they do well they show the whole background move forward see the whole background their relationship and that what really build see the up and down and see this guy that just really care about his wife and when you take that away from he willing anything and everything get back and that what like about they don over the top with he do these insane skill like secret agent secret soldier anything like that doesn that just generic guy and do what generic person would not polish and respect that because they could have easily write where have serve do something and like special agent and that why can all these cool skill anything like but not that not what', 'and they really make evident that you could actually follow along and understand his motivation why be do and you could understand exactly where come from and when they show all the stuff that happen with he and his character and how broken and how try build and just want this great husband willing like some the stuff go through willing still like there for she like insane that really get you his side whenever go around and do kill anyone anything like that you just push the side', 'and yeah justify justify that really really work jamie alexander the wife she be good for the what the whole minute she be screen for she be great the cop enjoy he well what they really do they do the cop storyline and his storyline', 'well you know how they call the cop first then the cop take forever go goto myself that happen this', 'well but like the cop well do good job the cinematography', 'great really enjoy the cinematography gorgeous location the camera work be outstanding', 'well this visual effect there massive explosion and you can tell that quite evidently low budget which fine because these movie be low budget you kind get expect that the effect aren go like comic book movie level these don have budget plus million these be the low low budget and like these low budget action field they cool need movie like this this just nice fun time the theater and have some suspense well there there scene where they really really well where actually go around the house and the suspense good', 'and then you think here here and then nothing happen', 'and then they again and they build the suspense well and the score that building building and you wait and you the edge your seat that stuff awesome and love see that these type film what really be evident this film be they be more focus the story element and humanizing and create this great character rather than just some cool ass action movie that doesn make any sense they really work that and really appreciate they do that for the villain the film don know too much about they very one once you figure out what they be do and everything like that you probably goto like okay guess that would they but mean revenge film revenge film don need villain these depth story villain like the vader the thano the loki you know don need they like that just need they terrible human being can root for hero that goto around and just beat he and and that all ask for and that what this film deliver could could honestly sit down and watch this movie again and again and again just entertain really and the whole first first act they build the character our main character they build he and appreciate that because lot these low budget action can just straight into but this one take its time build and make make sense why certain thing be happen and that what appreciate overall actually really enjoy this film quite lot this go the good film the year go top good film the year but tell you what be fun be entertaining be exactly what thought be go and more give that extra bit more which can really really really appreciate and kudo they like they just they give fun fun action film that all can ask for let know the comment below what do you guy think this movie do you love do you hate smash down below smash that like button click subscribe and see you guy next video until then stay safe and peace out']\n"
     ]
    }
   ],
   "source": [
    "# Sentence tokenization using Spacy\n",
    "nlp = spacy.load('en_core_web_sm')\n",
    "spacy_doc = nlp(clean_summary)\n",
    "sentences = [sentence.lemma_.lower().strip() for sentence in spacy_doc.sents]\n",
    "# sentences = [word.lemma_.lower().strip() for word in spacy_doc.sents if word not in sr]\n",
    "print(\"Number of sentences: \", len(sentences))\n",
    "print(sentences)"
   ]
  },
  {
   "cell_type": "code",
   "execution_count": 55,
   "id": "68e15d02",
   "metadata": {},
   "outputs": [
    {
     "name": "stdout",
     "output_type": "stream",
     "text": [
      "our scene alive new action movie that come the big screen for you all and check out this movie star gerard butler and you guy know his movie you know pretty much what you goto get this movie follow he look for his wife who have be kidnap and go himself red bench phil going tell you guy thought this movie let know the comment below what you guy think this movie you haven see what be your thought the trailer be you excited smash down below smash that like button click subscribe and let jump into this review last scene alive okay last scene alive revenge field that its core that what this film complete and utter revenge film sucker for those revenge field mean get john wick john wick classic revenge film get rambo revenge film get all these other revenge film and pretty sure most people enjoy they because they just much fun and much entertainment and like see the good guy absolutely murder bad guy just our dna our nature that what want see when you put jar butler you know what you go get mean angel have fall the whole have fall trilogy you know what you go get from this guy the modern day liam neeson that what do these little action film like this these low budget one just like liam neeson use that what put these that that sort category this one different fun fun and tell you what have lot more heart than think this movie be go have way more heart started pull strength because jared butler character actually feel for he they do fantastic job humanize he the point where don just see he this terrible husband don see he this terrible human being don not even especially skilled anything like that just regular real estate agent guy that what do real estate that all but what be they they do well they show the whole background move forward see the whole background their relationship and that what really build see the up and down and see this guy that just really care about his wife and when you take that away from he willing anything and everything get back and that what like about they don over the top with he do these insane skill like secret agent secret soldier anything like that doesn that just generic guy and do what generic person would not polish and respect that because they could have easily write where have serve do something and like special agent and that why can all these cool skill anything like but not that not what\n"
     ]
    }
   ],
   "source": [
    "# Create a summary with clean sentences\n",
    "sentenceValue = {}\n",
    "for sentence in sentences:\n",
    "  for word, freq in lemma_tokens_freq.items():\n",
    "    if word in sentence:\n",
    "        if sentence in sentenceValue:\n",
    "            sentenceValue[sentence] += freq\n",
    "        else :\n",
    "            sentenceValue[sentence] = freq\n",
    "sumValues = 0\n",
    "for sentence in sentenceValue:\n",
    "    sumValues += sentenceValue[sentence]\n",
    "average = int(sumValues / len(sentenceValue))\n",
    "\n",
    "summary = ''\n",
    "for sentence in sentences:\n",
    "    if (sentence in sentenceValue) and(sentenceValue[sentence] > (2.9 * average)):\n",
    "        summary += \"\" + sentence\n",
    "print(summary)"
   ]
  },
  {
   "cell_type": "code",
   "execution_count": 50,
   "id": "b026f8e8",
   "metadata": {},
   "outputs": [],
   "source": [
    "# textToLower = \"\"\n",
    "\n",
    "# # with open(\"corpus.txt\",\"r\") as f1:           # Open our source file\n",
    "# #     text = f1.read()                                  # Read the file                 \n",
    "# #     textToLower = text.lower()                        # Lower all the capital letters\n",
    "\n",
    "# words = re.findall(\"[a-z]+\", youtube_text)             # Find all the words and place them into a list    \n",
    "# oneString = \" \".join(words)                           # Join them into one string\n",
    "\n",
    "# pathToFile = \"train.txt\"                              # The path we want to store our stats file at\n",
    "# spelling = Spelling(path = pathToFile)                # Connect the path to the Spelling object\n",
    "# spelling.train(oneString, pathToFile)  "
   ]
  },
  {
   "cell_type": "code",
   "execution_count": 51,
   "id": "09868175",
   "metadata": {},
   "outputs": [
    {
     "name": "stdout",
     "output_type": "stream",
     "text": [
      "  \n"
     ]
    }
   ],
   "source": [
    "# pathToFile = \"train.txt\" \n",
    "# spelling = Spelling(path = pathToFile)\n",
    "# text = \" \"\n",
    "\n",
    "\n",
    "# words = summary.split(\" \")\n",
    "# corrected_summary = \" \"\n",
    "# for i in words:\n",
    "#     corrected_summary = corrected_summary +\" \"+ spelling.suggest(i)[0][0] # Spell checking word by word\n",
    "\n",
    "# print(corrected_summary)"
   ]
  },
  {
   "cell_type": "code",
   "execution_count": 105,
   "id": "e8ec6420",
   "metadata": {},
   "outputs": [],
   "source": [
    "# # Create Traning and Validation Set\n",
    "# # vocabulary size\n",
    "# vocab = len(mapping)\n",
    "# dataset = np.array(encoded_seq)\n",
    "# # create X and y\n",
    "# X, y = dataset[:,:-1], dataset[:,-1]\n",
    "# # one hot encode y\n",
    "# y = to_categorical(y, num_classes=vocab)\n",
    "# # create train and validation sets\n",
    "# X_train, X_val, y_train, y_val = train_test_split(X, y, test_size=0.1, random_state=42)\n",
    "\n",
    "# print('Train shape:', X_train.shape, 'Val shape:', X_val.shape)"
   ]
  },
  {
   "cell_type": "code",
   "execution_count": 106,
   "id": "cd594d2c",
   "metadata": {},
   "outputs": [],
   "source": [
    "# # Model Building\n",
    "# # define model\n",
    "# model = Sequential()\n",
    "# model.add(Embedding(vocab, 60, input_length=30, trainable=True))\n",
    "# model.add(GRU(150, recurrent_dropout=0.1, dropout=0.1))\n",
    "# model.add(Dense(vocab, activation='softmax'))\n",
    "# print(model.summary())\n",
    "\n",
    "# # compile the model\n",
    "# model.compile(loss='categorical_crossentropy', metrics=['acc'], optimizer='adam')\n",
    "# # fit the model\n",
    "# model.fit(X_train, y_train, epochs=100, verbose=1, validation_data=(X_val, y_val))"
   ]
  },
  {
   "cell_type": "code",
   "execution_count": 62,
   "id": "497a6abd",
   "metadata": {},
   "outputs": [],
   "source": [
    "# # generate a sequence of characters with a language model\n",
    "# def generate_seq(model, mapping, seq_length, seed_text, n_chars):\n",
    "#     in_text = seed_text\n",
    "#     # generate a fixed number of characters\n",
    "#     for _ in range(n_chars):\n",
    "#         # encode the characters as integers\n",
    "#         encoded = [mapping[char] for char in in_text]\n",
    "#         # truncate sequences to a fixed length\n",
    "#         encoded = pad_sequences([encoded], maxlen=seq_length, truncating='pre')\n",
    "#         # predict character\n",
    "# #         yhat = model.predict_classes(encoded, verbose=0)\n",
    "#         yhat = np.argmax(model.predict(encoded), axis=-1)\n",
    "#         # reverse map integer to character\n",
    "#         out_char = ''\n",
    "#         for char, index in mapping.items():\n",
    "#             if index == yhat:\n",
    "#                 out_char = char\n",
    "#                 break\n",
    "#         # append to input\n",
    "#         in_text += char\n",
    "#     return in_text"
   ]
  },
  {
   "cell_type": "code",
   "execution_count": 63,
   "id": "84d2befc",
   "metadata": {},
   "outputs": [],
   "source": [
    "# generated_text = generate_seq(model, mapping, 30, \"movie\", 15)\n",
    "# print(generated_text)"
   ]
  },
  {
   "cell_type": "code",
   "execution_count": 64,
   "id": "1e3e7d62",
   "metadata": {},
   "outputs": [],
   "source": [
    "# # Import required libraries\n",
    "# import torch\n",
    "# from pytorch_transformers import GPT2Tokenizer, GPT2LMHeadModel\n",
    "\n",
    "# # Load pre-trained model tokenizer (vocabulary)\n",
    "# tokenizer = GPT2Tokenizer.from_pretrained('gpt2')\n",
    "\n",
    "# generated_sentence = \"\"\n",
    "# for sentence in sentences:\n",
    "#     print(sentence.split(\" \")[0])\n",
    "#     text = sentence.split(\" \")[0] + \" movie\"\n",
    "#     predicted_text = \"\"\n",
    "#     while \".\" not in predicted_text:\n",
    "#         # Encode a text inputs\n",
    "#         if predicted_text != \"\":\n",
    "#             text = predicted_text\n",
    "\n",
    "#         indexed_tokens = tokenizer.encode(text)\n",
    "\n",
    "#         # Convert indexed tokens in a PyTorch tensor\n",
    "#         tokens_tensor = torch.tensor([indexed_tokens])\n",
    "\n",
    "#         # Load pre-trained model (weights)\n",
    "#         model = GPT2LMHeadModel.from_pretrained('gpt2')\n",
    "\n",
    "#         # Set the model in evaluation mode to deactivate the DropOut modules\n",
    "#         model.eval()\n",
    "\n",
    "#         # If you have a GPU, put everything on cuda\n",
    "#         if(torch.cuda.is_available()):\n",
    "#             tokens_tensor = tokens_tensor.to('cuda')\n",
    "#             model.to('cuda')\n",
    "\n",
    "#         # Predict all tokens\n",
    "#         with torch.no_grad():\n",
    "#             outputs = model(tokens_tensor)\n",
    "#             predictions = outputs[0]\n",
    "\n",
    "#         # Get the predicted next sub-word\n",
    "#         predicted_index = torch.argmax(predictions[0, -1, :]).item()\n",
    "#         predicted_text = tokenizer.decode(indexed_tokens + [predicted_index])\n",
    "# #         print(predicted_index, predicted_text)\n",
    "#     generated_sentence += predicted_text\n",
    "\n",
    "# # Print the predicted word\n",
    "# print(generated_sentence)"
   ]
  },
  {
   "cell_type": "code",
   "execution_count": 107,
   "id": "755dcdad",
   "metadata": {},
   "outputs": [],
   "source": [
    "# from nltk.corpus import movie_reviews\n",
    "# nltk.download('movie_reviews')"
   ]
  },
  {
   "cell_type": "code",
   "execution_count": 108,
   "id": "17ce1599",
   "metadata": {},
   "outputs": [],
   "source": [
    "# def countFreq(model):\n",
    "#     for sentence in movie_reviews.sents():\n",
    "#         for w1, w2, w3 in trigrams(sentence, pad_right=True, pad_left=True):\n",
    "#             model[(w1, w2)][w3] += 1\n",
    "#     return model\n",
    " \n",
    "# def getProbability(model):\n",
    "#     for w1_w2 in model:\n",
    "#         total_count = float(sum(model[w1_w2].values()))\n",
    "#         for w3 in model[w1_w2]:\n",
    "#             model[w1_w2][w3] /= total_count\n",
    "            \n",
    "# # Create a placeholder for model\n",
    "# model = defaultdict(lambda: defaultdict(lambda: 0))\n",
    "# countFreq(model)\n",
    "# getProbability(model)"
   ]
  },
  {
   "cell_type": "code",
   "execution_count": 109,
   "id": "a4ee9c80",
   "metadata": {},
   "outputs": [],
   "source": [
    "# dict(model[\"movie\", \"review\"])"
   ]
  },
  {
   "cell_type": "code",
   "execution_count": 76,
   "id": "1d253af4",
   "metadata": {},
   "outputs": [],
   "source": [
    "import pandas as pd \n",
    "import os\n",
    "for dirname, _, filenames in os.walk('/kaggle/input'):\n",
    "    for filename in filenames:\n",
    "        print(os.path.join(dirname, filename))"
   ]
  },
  {
   "cell_type": "code",
   "execution_count": 77,
   "id": "f65fbcc9",
   "metadata": {},
   "outputs": [
    {
     "data": {
      "text/html": [
       "<div>\n",
       "<style scoped>\n",
       "    .dataframe tbody tr th:only-of-type {\n",
       "        vertical-align: middle;\n",
       "    }\n",
       "\n",
       "    .dataframe tbody tr th {\n",
       "        vertical-align: top;\n",
       "    }\n",
       "\n",
       "    .dataframe thead th {\n",
       "        text-align: right;\n",
       "    }\n",
       "</style>\n",
       "<table border=\"1\" class=\"dataframe\">\n",
       "  <thead>\n",
       "    <tr style=\"text-align: right;\">\n",
       "      <th></th>\n",
       "      <th>review</th>\n",
       "      <th>sentiment</th>\n",
       "    </tr>\n",
       "  </thead>\n",
       "  <tbody>\n",
       "    <tr>\n",
       "      <th>0</th>\n",
       "      <td>One of the other reviewers has mentioned that ...</td>\n",
       "      <td>positive</td>\n",
       "    </tr>\n",
       "    <tr>\n",
       "      <th>1</th>\n",
       "      <td>A wonderful little production. &lt;br /&gt;&lt;br /&gt;The...</td>\n",
       "      <td>positive</td>\n",
       "    </tr>\n",
       "    <tr>\n",
       "      <th>2</th>\n",
       "      <td>I thought this was a wonderful way to spend ti...</td>\n",
       "      <td>positive</td>\n",
       "    </tr>\n",
       "    <tr>\n",
       "      <th>3</th>\n",
       "      <td>Basically there's a family where a little boy ...</td>\n",
       "      <td>negative</td>\n",
       "    </tr>\n",
       "    <tr>\n",
       "      <th>4</th>\n",
       "      <td>Petter Mattei's \"Love in the Time of Money\" is...</td>\n",
       "      <td>positive</td>\n",
       "    </tr>\n",
       "  </tbody>\n",
       "</table>\n",
       "</div>"
      ],
      "text/plain": [
       "                                              review sentiment\n",
       "0  One of the other reviewers has mentioned that ...  positive\n",
       "1  A wonderful little production. <br /><br />The...  positive\n",
       "2  I thought this was a wonderful way to spend ti...  positive\n",
       "3  Basically there's a family where a little boy ...  negative\n",
       "4  Petter Mattei's \"Love in the Time of Money\" is...  positive"
      ]
     },
     "execution_count": 77,
     "metadata": {},
     "output_type": "execute_result"
    }
   ],
   "source": [
    "# Import IMDB datasets\n",
    "# https://www.kaggle.com/datasets/lakshmi25npathi/imdb-dataset-of-50k-movie-reviews\n",
    "df = pd.read_csv(\"dataset.csv\")\n",
    "df.head()"
   ]
  },
  {
   "cell_type": "code",
   "execution_count": 78,
   "id": "a74b2ce9",
   "metadata": {},
   "outputs": [
    {
     "data": {
      "text/plain": [
       "\"One of the other reviewers has mentioned that after watching just 1 Oz episode you'll be hooked. They are right, as this is exactly what happened with me.<br /><br />The first thing that struck me about Oz was its brutality and unflinching scenes of violence, which set in right from the word GO. Trust me, this is not a show for the faint hearted or timid. This show pulls no punches with regards to drugs, sex or violence. Its is hardcore, in the classic use of the word.<br /><br />It is called OZ as that is the nickname given to the Oswald Maximum Security State Penitentary. It focuses mainly on Emerald City, an experimental section of the prison where all the cells have glass fronts and face inwards, so privacy is not high on the agenda. Em City is home to many..Aryans, Muslims, gangstas, Latinos, Christians, Italians, Irish and more....so scuffles, death stares, dodgy dealings and shady agreements are never far away.<br /><br />I would say the main appeal of the show is due to the fact that it goes where other shows wouldn't dare. Forget pretty pictures painted for mainstream audiences, forget charm, forget romance...OZ doesn't mess around. The first episode I ever saw struck me as so nasty it was surreal, I couldn't say I was ready for it, but as I watched more, I developed a taste for Oz, and got accustomed to the high levels of graphic violence. Not just violence, but injustice (crooked guards who'll be sold out for a nickel, inmates who'll kill on order and get away with it, well mannered, middle class inmates being turned into prison bitches due to their lack of street skills or prison experience) Watching Oz, you may become comfortable with what is uncomfortable viewing....thats if you can get in touch with your darker side.\""
      ]
     },
     "execution_count": 78,
     "metadata": {},
     "output_type": "execute_result"
    }
   ],
   "source": [
    "df['review'].iloc[0]"
   ]
  },
  {
   "cell_type": "code",
   "execution_count": 79,
   "id": "b402a878",
   "metadata": {},
   "outputs": [],
   "source": [
    "# Preprocessing\n",
    "df['target'] = df['sentiment'].apply(lambda x: 1 if x == 'positive' else 0)"
   ]
  },
  {
   "cell_type": "code",
   "execution_count": 80,
   "id": "44542a32",
   "metadata": {},
   "outputs": [
    {
     "data": {
      "text/html": [
       "<div>\n",
       "<style scoped>\n",
       "    .dataframe tbody tr th:only-of-type {\n",
       "        vertical-align: middle;\n",
       "    }\n",
       "\n",
       "    .dataframe tbody tr th {\n",
       "        vertical-align: top;\n",
       "    }\n",
       "\n",
       "    .dataframe thead th {\n",
       "        text-align: right;\n",
       "    }\n",
       "</style>\n",
       "<table border=\"1\" class=\"dataframe\">\n",
       "  <thead>\n",
       "    <tr style=\"text-align: right;\">\n",
       "      <th></th>\n",
       "      <th>review</th>\n",
       "      <th>sentiment</th>\n",
       "      <th>target</th>\n",
       "    </tr>\n",
       "  </thead>\n",
       "  <tbody>\n",
       "    <tr>\n",
       "      <th>48842</th>\n",
       "      <td>I should have trusted my instincts better: No ...</td>\n",
       "      <td>negative</td>\n",
       "      <td>0</td>\n",
       "    </tr>\n",
       "    <tr>\n",
       "      <th>46597</th>\n",
       "      <td>Seeing as the vote average was pretty low, and...</td>\n",
       "      <td>positive</td>\n",
       "      <td>1</td>\n",
       "    </tr>\n",
       "    <tr>\n",
       "      <th>48139</th>\n",
       "      <td>It seems that some viewers assume that the onl...</td>\n",
       "      <td>negative</td>\n",
       "      <td>0</td>\n",
       "    </tr>\n",
       "  </tbody>\n",
       "</table>\n",
       "</div>"
      ],
      "text/plain": [
       "                                                  review sentiment  target\n",
       "48842  I should have trusted my instincts better: No ...  negative       0\n",
       "46597  Seeing as the vote average was pretty low, and...  positive       1\n",
       "48139  It seems that some viewers assume that the onl...  negative       0"
      ]
     },
     "execution_count": 80,
     "metadata": {},
     "output_type": "execute_result"
    }
   ],
   "source": [
    "df.sample(3)"
   ]
  },
  {
   "cell_type": "code",
   "execution_count": 81,
   "id": "1d6721d4",
   "metadata": {},
   "outputs": [
    {
     "data": {
      "text/plain": [
       "positive    25000\n",
       "negative    25000\n",
       "Name: sentiment, dtype: int64"
      ]
     },
     "execution_count": 81,
     "metadata": {},
     "output_type": "execute_result"
    }
   ],
   "source": [
    "df.sentiment.value_counts()"
   ]
  },
  {
   "cell_type": "code",
   "execution_count": 82,
   "id": "0d9709ae",
   "metadata": {},
   "outputs": [
    {
     "data": {
      "text/plain": [
       "(50000, 3)"
      ]
     },
     "execution_count": 82,
     "metadata": {},
     "output_type": "execute_result"
    }
   ],
   "source": [
    "df.shape"
   ]
  },
  {
   "cell_type": "code",
   "execution_count": 84,
   "id": "94289a53",
   "metadata": {},
   "outputs": [],
   "source": [
    "# Lemmatization\n",
    "# Remove punctuations, next line character, break line character\n",
    "# Next Line character\n",
    "def preprocess(text):\n",
    "    doc = nlp(text)\n",
    "    preprocessed_text = [token.lemma_ for token in doc if not token.is_punct and \n",
    "                         token.text != ' ' and token.text != '\\n' and token.text != '<br />' \n",
    "                         and token.text != '<br/>']\n",
    "    return \" \".join(preprocessed_text)"
   ]
  },
  {
   "cell_type": "code",
   "execution_count": 85,
   "id": "11825159",
   "metadata": {},
   "outputs": [],
   "source": [
    "df['preprocessed_review'] = df['review'].apply(preprocess)"
   ]
  },
  {
   "cell_type": "code",
   "execution_count": 101,
   "id": "36fd28dc",
   "metadata": {},
   "outputs": [],
   "source": [
    "# Split Datasets between training(80%) and testing(20%)\n",
    "X_train, X_test, y_train, y_test = train_test_split(df['review'], df['target'], test_size=0.2)"
   ]
  },
  {
   "cell_type": "code",
   "execution_count": 87,
   "id": "eeb5d953",
   "metadata": {},
   "outputs": [
    {
     "data": {
      "text/plain": [
       "(40000,)"
      ]
     },
     "execution_count": 87,
     "metadata": {},
     "output_type": "execute_result"
    }
   ],
   "source": [
    "X_train.shape"
   ]
  },
  {
   "cell_type": "code",
   "execution_count": 89,
   "id": "792133f7",
   "metadata": {},
   "outputs": [],
   "source": [
    "nbpl = Pipeline([\n",
    "    ('count_vectorizer', CountVectorizer()),\n",
    "    ('naive_bayes', MultinomialNB())\n",
    "])"
   ]
  },
  {
   "cell_type": "code",
   "execution_count": 90,
   "id": "d59810c7",
   "metadata": {},
   "outputs": [
    {
     "data": {
      "text/html": [
       "<style>#sk-container-id-1 {color: black;background-color: white;}#sk-container-id-1 pre{padding: 0;}#sk-container-id-1 div.sk-toggleable {background-color: white;}#sk-container-id-1 label.sk-toggleable__label {cursor: pointer;display: block;width: 100%;margin-bottom: 0;padding: 0.3em;box-sizing: border-box;text-align: center;}#sk-container-id-1 label.sk-toggleable__label-arrow:before {content: \"▸\";float: left;margin-right: 0.25em;color: #696969;}#sk-container-id-1 label.sk-toggleable__label-arrow:hover:before {color: black;}#sk-container-id-1 div.sk-estimator:hover label.sk-toggleable__label-arrow:before {color: black;}#sk-container-id-1 div.sk-toggleable__content {max-height: 0;max-width: 0;overflow: hidden;text-align: left;background-color: #f0f8ff;}#sk-container-id-1 div.sk-toggleable__content pre {margin: 0.2em;color: black;border-radius: 0.25em;background-color: #f0f8ff;}#sk-container-id-1 input.sk-toggleable__control:checked~div.sk-toggleable__content {max-height: 200px;max-width: 100%;overflow: auto;}#sk-container-id-1 input.sk-toggleable__control:checked~label.sk-toggleable__label-arrow:before {content: \"▾\";}#sk-container-id-1 div.sk-estimator input.sk-toggleable__control:checked~label.sk-toggleable__label {background-color: #d4ebff;}#sk-container-id-1 div.sk-label input.sk-toggleable__control:checked~label.sk-toggleable__label {background-color: #d4ebff;}#sk-container-id-1 input.sk-hidden--visually {border: 0;clip: rect(1px 1px 1px 1px);clip: rect(1px, 1px, 1px, 1px);height: 1px;margin: -1px;overflow: hidden;padding: 0;position: absolute;width: 1px;}#sk-container-id-1 div.sk-estimator {font-family: monospace;background-color: #f0f8ff;border: 1px dotted black;border-radius: 0.25em;box-sizing: border-box;margin-bottom: 0.5em;}#sk-container-id-1 div.sk-estimator:hover {background-color: #d4ebff;}#sk-container-id-1 div.sk-parallel-item::after {content: \"\";width: 100%;border-bottom: 1px solid gray;flex-grow: 1;}#sk-container-id-1 div.sk-label:hover label.sk-toggleable__label {background-color: #d4ebff;}#sk-container-id-1 div.sk-serial::before {content: \"\";position: absolute;border-left: 1px solid gray;box-sizing: border-box;top: 0;bottom: 0;left: 50%;z-index: 0;}#sk-container-id-1 div.sk-serial {display: flex;flex-direction: column;align-items: center;background-color: white;padding-right: 0.2em;padding-left: 0.2em;position: relative;}#sk-container-id-1 div.sk-item {position: relative;z-index: 1;}#sk-container-id-1 div.sk-parallel {display: flex;align-items: stretch;justify-content: center;background-color: white;position: relative;}#sk-container-id-1 div.sk-item::before, #sk-container-id-1 div.sk-parallel-item::before {content: \"\";position: absolute;border-left: 1px solid gray;box-sizing: border-box;top: 0;bottom: 0;left: 50%;z-index: -1;}#sk-container-id-1 div.sk-parallel-item {display: flex;flex-direction: column;z-index: 1;position: relative;background-color: white;}#sk-container-id-1 div.sk-parallel-item:first-child::after {align-self: flex-end;width: 50%;}#sk-container-id-1 div.sk-parallel-item:last-child::after {align-self: flex-start;width: 50%;}#sk-container-id-1 div.sk-parallel-item:only-child::after {width: 0;}#sk-container-id-1 div.sk-dashed-wrapped {border: 1px dashed gray;margin: 0 0.4em 0.5em 0.4em;box-sizing: border-box;padding-bottom: 0.4em;background-color: white;}#sk-container-id-1 div.sk-label label {font-family: monospace;font-weight: bold;display: inline-block;line-height: 1.2em;}#sk-container-id-1 div.sk-label-container {text-align: center;}#sk-container-id-1 div.sk-container {/* jupyter's `normalize.less` sets `[hidden] { display: none; }` but bootstrap.min.css set `[hidden] { display: none !important; }` so we also need the `!important` here to be able to override the default hidden behavior on the sphinx rendered scikit-learn.org. See: https://github.com/scikit-learn/scikit-learn/issues/21755 */display: inline-block !important;position: relative;}#sk-container-id-1 div.sk-text-repr-fallback {display: none;}</style><div id=\"sk-container-id-1\" class=\"sk-top-container\"><div class=\"sk-text-repr-fallback\"><pre>Pipeline(steps=[(&#x27;count_vectorizer&#x27;, CountVectorizer()),\n",
       "                (&#x27;naive_bayes&#x27;, MultinomialNB())])</pre><b>In a Jupyter environment, please rerun this cell to show the HTML representation or trust the notebook. <br />On GitHub, the HTML representation is unable to render, please try loading this page with nbviewer.org.</b></div><div class=\"sk-container\" hidden><div class=\"sk-item sk-dashed-wrapped\"><div class=\"sk-label-container\"><div class=\"sk-label sk-toggleable\"><input class=\"sk-toggleable__control sk-hidden--visually\" id=\"sk-estimator-id-1\" type=\"checkbox\" ><label for=\"sk-estimator-id-1\" class=\"sk-toggleable__label sk-toggleable__label-arrow\">Pipeline</label><div class=\"sk-toggleable__content\"><pre>Pipeline(steps=[(&#x27;count_vectorizer&#x27;, CountVectorizer()),\n",
       "                (&#x27;naive_bayes&#x27;, MultinomialNB())])</pre></div></div></div><div class=\"sk-serial\"><div class=\"sk-item\"><div class=\"sk-estimator sk-toggleable\"><input class=\"sk-toggleable__control sk-hidden--visually\" id=\"sk-estimator-id-2\" type=\"checkbox\" ><label for=\"sk-estimator-id-2\" class=\"sk-toggleable__label sk-toggleable__label-arrow\">CountVectorizer</label><div class=\"sk-toggleable__content\"><pre>CountVectorizer()</pre></div></div></div><div class=\"sk-item\"><div class=\"sk-estimator sk-toggleable\"><input class=\"sk-toggleable__control sk-hidden--visually\" id=\"sk-estimator-id-3\" type=\"checkbox\" ><label for=\"sk-estimator-id-3\" class=\"sk-toggleable__label sk-toggleable__label-arrow\">MultinomialNB</label><div class=\"sk-toggleable__content\"><pre>MultinomialNB()</pre></div></div></div></div></div></div></div>"
      ],
      "text/plain": [
       "Pipeline(steps=[('count_vectorizer', CountVectorizer()),\n",
       "                ('naive_bayes', MultinomialNB())])"
      ]
     },
     "execution_count": 90,
     "metadata": {},
     "output_type": "execute_result"
    }
   ],
   "source": [
    "# Model Training\n",
    "nbpl.fit(X_train, y_train)"
   ]
  },
  {
   "cell_type": "code",
   "execution_count": 91,
   "id": "f3239c13",
   "metadata": {},
   "outputs": [],
   "source": [
    "# Testing the model\n",
    "y_pred = nbpl.predict(X_test)"
   ]
  },
  {
   "cell_type": "code",
   "execution_count": 103,
   "id": "72b1645e",
   "metadata": {},
   "outputs": [],
   "source": [
    "# nbpl.predict(summary)\n",
    "# nbpl.predict(X_test)"
   ]
  },
  {
   "cell_type": "code",
   "execution_count": 93,
   "id": "45466d0b",
   "metadata": {},
   "outputs": [
    {
     "name": "stdout",
     "output_type": "stream",
     "text": [
      "              precision    recall  f1-score   support\n",
      "\n",
      "           0       0.83      0.88      0.85      4987\n",
      "           1       0.87      0.82      0.84      5013\n",
      "\n",
      "    accuracy                           0.85     10000\n",
      "   macro avg       0.85      0.85      0.85     10000\n",
      "weighted avg       0.85      0.85      0.85     10000\n",
      "\n"
     ]
    }
   ],
   "source": [
    "# Classification report\n",
    "from sklearn.metrics import classification_report\n",
    "\n",
    "print(classification_report(y_test, y_pred))"
   ]
  },
  {
   "cell_type": "code",
   "execution_count": 94,
   "id": "a510d0d9",
   "metadata": {},
   "outputs": [],
   "source": [
    "# Random Forest Classifier\n",
    "from sklearn.ensemble import RandomForestClassifier\n",
    "\n",
    "rfpl = Pipeline([\n",
    "    ('count_vectorizer', CountVectorizer()),\n",
    "    ('random_classifier', RandomForestClassifier(n_estimators=50, criterion='entropy'))\n",
    "])"
   ]
  },
  {
   "cell_type": "code",
   "execution_count": 95,
   "id": "1254dd9e",
   "metadata": {},
   "outputs": [
    {
     "data": {
      "text/html": [
       "<style>#sk-container-id-2 {color: black;background-color: white;}#sk-container-id-2 pre{padding: 0;}#sk-container-id-2 div.sk-toggleable {background-color: white;}#sk-container-id-2 label.sk-toggleable__label {cursor: pointer;display: block;width: 100%;margin-bottom: 0;padding: 0.3em;box-sizing: border-box;text-align: center;}#sk-container-id-2 label.sk-toggleable__label-arrow:before {content: \"▸\";float: left;margin-right: 0.25em;color: #696969;}#sk-container-id-2 label.sk-toggleable__label-arrow:hover:before {color: black;}#sk-container-id-2 div.sk-estimator:hover label.sk-toggleable__label-arrow:before {color: black;}#sk-container-id-2 div.sk-toggleable__content {max-height: 0;max-width: 0;overflow: hidden;text-align: left;background-color: #f0f8ff;}#sk-container-id-2 div.sk-toggleable__content pre {margin: 0.2em;color: black;border-radius: 0.25em;background-color: #f0f8ff;}#sk-container-id-2 input.sk-toggleable__control:checked~div.sk-toggleable__content {max-height: 200px;max-width: 100%;overflow: auto;}#sk-container-id-2 input.sk-toggleable__control:checked~label.sk-toggleable__label-arrow:before {content: \"▾\";}#sk-container-id-2 div.sk-estimator input.sk-toggleable__control:checked~label.sk-toggleable__label {background-color: #d4ebff;}#sk-container-id-2 div.sk-label input.sk-toggleable__control:checked~label.sk-toggleable__label {background-color: #d4ebff;}#sk-container-id-2 input.sk-hidden--visually {border: 0;clip: rect(1px 1px 1px 1px);clip: rect(1px, 1px, 1px, 1px);height: 1px;margin: -1px;overflow: hidden;padding: 0;position: absolute;width: 1px;}#sk-container-id-2 div.sk-estimator {font-family: monospace;background-color: #f0f8ff;border: 1px dotted black;border-radius: 0.25em;box-sizing: border-box;margin-bottom: 0.5em;}#sk-container-id-2 div.sk-estimator:hover {background-color: #d4ebff;}#sk-container-id-2 div.sk-parallel-item::after {content: \"\";width: 100%;border-bottom: 1px solid gray;flex-grow: 1;}#sk-container-id-2 div.sk-label:hover label.sk-toggleable__label {background-color: #d4ebff;}#sk-container-id-2 div.sk-serial::before {content: \"\";position: absolute;border-left: 1px solid gray;box-sizing: border-box;top: 0;bottom: 0;left: 50%;z-index: 0;}#sk-container-id-2 div.sk-serial {display: flex;flex-direction: column;align-items: center;background-color: white;padding-right: 0.2em;padding-left: 0.2em;position: relative;}#sk-container-id-2 div.sk-item {position: relative;z-index: 1;}#sk-container-id-2 div.sk-parallel {display: flex;align-items: stretch;justify-content: center;background-color: white;position: relative;}#sk-container-id-2 div.sk-item::before, #sk-container-id-2 div.sk-parallel-item::before {content: \"\";position: absolute;border-left: 1px solid gray;box-sizing: border-box;top: 0;bottom: 0;left: 50%;z-index: -1;}#sk-container-id-2 div.sk-parallel-item {display: flex;flex-direction: column;z-index: 1;position: relative;background-color: white;}#sk-container-id-2 div.sk-parallel-item:first-child::after {align-self: flex-end;width: 50%;}#sk-container-id-2 div.sk-parallel-item:last-child::after {align-self: flex-start;width: 50%;}#sk-container-id-2 div.sk-parallel-item:only-child::after {width: 0;}#sk-container-id-2 div.sk-dashed-wrapped {border: 1px dashed gray;margin: 0 0.4em 0.5em 0.4em;box-sizing: border-box;padding-bottom: 0.4em;background-color: white;}#sk-container-id-2 div.sk-label label {font-family: monospace;font-weight: bold;display: inline-block;line-height: 1.2em;}#sk-container-id-2 div.sk-label-container {text-align: center;}#sk-container-id-2 div.sk-container {/* jupyter's `normalize.less` sets `[hidden] { display: none; }` but bootstrap.min.css set `[hidden] { display: none !important; }` so we also need the `!important` here to be able to override the default hidden behavior on the sphinx rendered scikit-learn.org. See: https://github.com/scikit-learn/scikit-learn/issues/21755 */display: inline-block !important;position: relative;}#sk-container-id-2 div.sk-text-repr-fallback {display: none;}</style><div id=\"sk-container-id-2\" class=\"sk-top-container\"><div class=\"sk-text-repr-fallback\"><pre>Pipeline(steps=[(&#x27;count_vectorizer&#x27;, CountVectorizer()),\n",
       "                (&#x27;random_classifier&#x27;,\n",
       "                 RandomForestClassifier(criterion=&#x27;entropy&#x27;, n_estimators=50))])</pre><b>In a Jupyter environment, please rerun this cell to show the HTML representation or trust the notebook. <br />On GitHub, the HTML representation is unable to render, please try loading this page with nbviewer.org.</b></div><div class=\"sk-container\" hidden><div class=\"sk-item sk-dashed-wrapped\"><div class=\"sk-label-container\"><div class=\"sk-label sk-toggleable\"><input class=\"sk-toggleable__control sk-hidden--visually\" id=\"sk-estimator-id-4\" type=\"checkbox\" ><label for=\"sk-estimator-id-4\" class=\"sk-toggleable__label sk-toggleable__label-arrow\">Pipeline</label><div class=\"sk-toggleable__content\"><pre>Pipeline(steps=[(&#x27;count_vectorizer&#x27;, CountVectorizer()),\n",
       "                (&#x27;random_classifier&#x27;,\n",
       "                 RandomForestClassifier(criterion=&#x27;entropy&#x27;, n_estimators=50))])</pre></div></div></div><div class=\"sk-serial\"><div class=\"sk-item\"><div class=\"sk-estimator sk-toggleable\"><input class=\"sk-toggleable__control sk-hidden--visually\" id=\"sk-estimator-id-5\" type=\"checkbox\" ><label for=\"sk-estimator-id-5\" class=\"sk-toggleable__label sk-toggleable__label-arrow\">CountVectorizer</label><div class=\"sk-toggleable__content\"><pre>CountVectorizer()</pre></div></div></div><div class=\"sk-item\"><div class=\"sk-estimator sk-toggleable\"><input class=\"sk-toggleable__control sk-hidden--visually\" id=\"sk-estimator-id-6\" type=\"checkbox\" ><label for=\"sk-estimator-id-6\" class=\"sk-toggleable__label sk-toggleable__label-arrow\">RandomForestClassifier</label><div class=\"sk-toggleable__content\"><pre>RandomForestClassifier(criterion=&#x27;entropy&#x27;, n_estimators=50)</pre></div></div></div></div></div></div></div>"
      ],
      "text/plain": [
       "Pipeline(steps=[('count_vectorizer', CountVectorizer()),\n",
       "                ('random_classifier',\n",
       "                 RandomForestClassifier(criterion='entropy', n_estimators=50))])"
      ]
     },
     "execution_count": 95,
     "metadata": {},
     "output_type": "execute_result"
    }
   ],
   "source": [
    "# Model training\n",
    "rfpl.fit(X_train, y_train)"
   ]
  },
  {
   "cell_type": "code",
   "execution_count": 96,
   "id": "569e65a8",
   "metadata": {},
   "outputs": [],
   "source": [
    "# testing the model\n",
    "y_pred = rfpl.predict(X_test)"
   ]
  },
  {
   "cell_type": "code",
   "execution_count": 97,
   "id": "e38006c4",
   "metadata": {},
   "outputs": [
    {
     "name": "stdout",
     "output_type": "stream",
     "text": [
      "              precision    recall  f1-score   support\n",
      "\n",
      "           0       0.85      0.85      0.85      4987\n",
      "           1       0.85      0.85      0.85      5013\n",
      "\n",
      "    accuracy                           0.85     10000\n",
      "   macro avg       0.85      0.85      0.85     10000\n",
      "weighted avg       0.85      0.85      0.85     10000\n",
      "\n"
     ]
    }
   ],
   "source": [
    "# Classification report\n",
    "print(classification_report(y_test, y_pred))"
   ]
  },
  {
   "cell_type": "code",
   "execution_count": 104,
   "id": "b7b6761b",
   "metadata": {},
   "outputs": [],
   "source": [
    "# print(y_pred)\n",
    "# rfpl.predict(summary)"
   ]
  },
  {
   "cell_type": "code",
   "execution_count": null,
   "id": "880d860f",
   "metadata": {},
   "outputs": [],
   "source": []
  }
 ],
 "metadata": {
  "kernelspec": {
   "display_name": "Python 3 (ipykernel)",
   "language": "python",
   "name": "python3"
  },
  "language_info": {
   "codemirror_mode": {
    "name": "ipython",
    "version": 3
   },
   "file_extension": ".py",
   "mimetype": "text/x-python",
   "name": "python",
   "nbconvert_exporter": "python",
   "pygments_lexer": "ipython3",
   "version": "3.10.7"
  }
 },
 "nbformat": 4,
 "nbformat_minor": 5
}
